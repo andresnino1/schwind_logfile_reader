{
 "cells": [
  {
   "cell_type": "markdown",
   "metadata": {},
   "source": [
    "## List of variables\n",
    "\n",
    "base --> name of the zip file to open\n",
    "\n",
    "datenumber --> date of logfile (datetime object)\n",
    "\n",
    "file_to_open -- > name of the most recentrly file (.log)\n",
    "\n",
    "df -- > logfile (.log) in data frame\n",
    "\n",
    "df2 --> lasercfg file in data frame\n",
    "\n",
    "df3 -->  sysconfiginfo file in data frame\n",
    "\n",
    "df4 --> ServiceActivity file in data frame\n",
    "\n",
    "last_fluence --> data frame with fluence made on the logfile date\n",
    "\n",
    "values_last_fluence --> data frame with last fluence values\n",
    "\n",
    "valueslastfluence[\"High Fluence\"] --> High Fluence value\n",
    "\n",
    "valueslastfluence[\"Low Fluence\"] --> Low Fluence value\n",
    "\n",
    "valueslastfluence[\"HV\"] --> HV value\n",
    "\n",
    "valueslastfluence[\"High Energy\"] --> High Energy value\n",
    "\n",
    "valueslastfluence[\"Low Energy\"] --> Low Energy value\n",
    "\n",
    "valueslastfluence[\"HV min\"] --> HV minimun value\n",
    "\n",
    "valueslastfluence[\"HV max\"] --> HV maximun value\n",
    "\n",
    "valueslastfluence[\"Temp\"] --> Temperature value\n",
    "\n",
    "serial_number -- > Amaris serial number value\n",
    "\n",
    "client_name -- > client name information\n",
    "\n",
    "client_address -- > client addres infomation \n",
    "\n",
    "client_town  --> client town information\n",
    "\n",
    "client_country  --> client coutry information\n",
    "\n",
    "client_phone --> client phone information\n",
    "\n",
    "client_email  --> client email information\n",
    "\n",
    "pulsecounter --> number of pulses\n",
    "\n",
    "num_remain_gas -- > number of gas exchange remain \n",
    "\n",
    "application_sw -- > application software version\n",
    "\n",
    "cam_sw --> cam software version\n",
    "\n"
   ]
  },
  {
   "cell_type": "markdown",
   "metadata": {},
   "source": [
    "## OPEN THE LOGFILE "
   ]
  },
  {
   "cell_type": "code",
   "execution_count": 191,
   "metadata": {},
   "outputs": [],
   "source": [
    "#with this procedure i am opening a dialog box in order to grab the path of the file\n",
    "from tkinter.filedialog import askopenfilename\n",
    "import os"
   ]
  },
  {
   "cell_type": "code",
   "execution_count": 192,
   "metadata": {},
   "outputs": [],
   "source": [
    "#this will be the FULL PATH of the zip file\n",
    "filename = askopenfilename(filetypes =[(\"todos\", \"*.*\")])"
   ]
  },
  {
   "cell_type": "code",
   "execution_count": 193,
   "metadata": {},
   "outputs": [
    {
     "data": {
      "text/plain": [
       "'/home/andres/Documents/python_projects/schwind_logfile_reader/Log_R444_2020-05-20.zip'"
      ]
     },
     "execution_count": 193,
     "metadata": {},
     "output_type": "execute_result"
    }
   ],
   "source": [
    "filename"
   ]
  },
  {
   "cell_type": "code",
   "execution_count": 194,
   "metadata": {},
   "outputs": [],
   "source": [
    "#this is the file name WITHOUT the path\n",
    "base=os.path.basename(filename)"
   ]
  },
  {
   "cell_type": "code",
   "execution_count": 195,
   "metadata": {},
   "outputs": [
    {
     "data": {
      "text/plain": [
       "'Log_R444_2020-05-20.zip'"
      ]
     },
     "execution_count": 195,
     "metadata": {},
     "output_type": "execute_result"
    }
   ],
   "source": [
    "base"
   ]
  },
  {
   "cell_type": "markdown",
   "metadata": {},
   "source": [
    "## Extract all files from logfile zip file"
   ]
  },
  {
   "cell_type": "code",
   "execution_count": 196,
   "metadata": {},
   "outputs": [],
   "source": [
    "#Import libraries to unzip the logfile\n",
    "from zipfile import ZipFile"
   ]
  },
  {
   "cell_type": "code",
   "execution_count": 197,
   "metadata": {},
   "outputs": [],
   "source": [
    "#the zip file will be in ZIP variable\n",
    "zip=ZipFile(base)"
   ]
  },
  {
   "cell_type": "code",
   "execution_count": 198,
   "metadata": {},
   "outputs": [],
   "source": [
    "#UNZIP the file\n",
    "zip.extractall()"
   ]
  },
  {
   "cell_type": "code",
   "execution_count": 199,
   "metadata": {},
   "outputs": [],
   "source": [
    "zip.close()"
   ]
  },
  {
   "cell_type": "code",
   "execution_count": null,
   "metadata": {},
   "outputs": [],
   "source": []
  },
  {
   "cell_type": "markdown",
   "metadata": {},
   "source": [
    "## Read all the files unziped"
   ]
  },
  {
   "cell_type": "code",
   "execution_count": 200,
   "metadata": {},
   "outputs": [],
   "source": [
    "import os\n",
    "import pandas as pd"
   ]
  },
  {
   "cell_type": "code",
   "execution_count": 201,
   "metadata": {},
   "outputs": [],
   "source": [
    "files = os.listdir()"
   ]
  },
  {
   "cell_type": "code",
   "execution_count": 202,
   "metadata": {},
   "outputs": [
    {
     "data": {
      "text/plain": [
       "['SysConfigInfo',\n",
       " 'ServiceActivity.log',\n",
       " 'laser.slb',\n",
       " 'CAMerrorLog.dat',\n",
       " '.ipynb_checkpoints',\n",
       " '2020-05-19__20-39-31.log',\n",
       " 'ssw.slb',\n",
       " '.gitignore',\n",
       " '.git',\n",
       " 'Mcu_boottime',\n",
       " 'laser.cfg',\n",
       " 'Mcu_logs',\n",
       " 'logfile_separadores.py',\n",
       " 'logfile_notebook.ipynb',\n",
       " 'LogEx',\n",
       " 'Hdspace',\n",
       " 'Nozzle',\n",
       " 'schwind_logfile_reader.py',\n",
       " '2020-05-20__04-55-56.log',\n",
       " 'SpotAtLastDriftTest.bmp',\n",
       " 'Log_R444_2020-05-20.zip',\n",
       " 'Users',\n",
       " 'CrdStatus',\n",
       " 'README.md',\n",
       " 'system.sys',\n",
       " 'confs']"
      ]
     },
     "execution_count": 202,
     "metadata": {},
     "output_type": "execute_result"
    }
   ],
   "source": [
    "#list of all files in the directory\n",
    "files"
   ]
  },
  {
   "cell_type": "code",
   "execution_count": null,
   "metadata": {},
   "outputs": [],
   "source": []
  },
  {
   "cell_type": "markdown",
   "metadata": {},
   "source": [
    "## Grabing the file name from the original logfile \n",
    "in this procedure we need to find the file.LOG with the right date.\n",
    "the right day is always in the ORIGINAL name of the ZIP file taken from the Amaris System.\n",
    "so, we are taking the number and we will find the file in the unziped list"
   ]
  },
  {
   "cell_type": "code",
   "execution_count": 203,
   "metadata": {},
   "outputs": [],
   "source": [
    "#This is the filename without te extension\n",
    "logfile_name=os.path.splitext(base)"
   ]
  },
  {
   "cell_type": "code",
   "execution_count": 204,
   "metadata": {},
   "outputs": [],
   "source": [
    "logfilename=logfile_name[0]"
   ]
  },
  {
   "cell_type": "code",
   "execution_count": 205,
   "metadata": {},
   "outputs": [
    {
     "data": {
      "text/plain": [
       "'Log_R444_2020-05-20'"
      ]
     },
     "execution_count": 205,
     "metadata": {},
     "output_type": "execute_result"
    }
   ],
   "source": [
    "logfilename"
   ]
  },
  {
   "cell_type": "code",
   "execution_count": 206,
   "metadata": {},
   "outputs": [],
   "source": [
    "# Import Regular expressions to find the pathern of the DATE\n",
    "import re"
   ]
  },
  {
   "cell_type": "code",
   "execution_count": 207,
   "metadata": {},
   "outputs": [],
   "source": [
    "#re.search(\"([0-9]{2}\\-[0-9]{2}\\-[0-9]{4})\", fileName)\n",
    "date_number = re.search(\"([0-9]{4}\\-[0-9]{2}\\-[0-9]{2})\", logfilename)"
   ]
  },
  {
   "cell_type": "code",
   "execution_count": 208,
   "metadata": {},
   "outputs": [
    {
     "data": {
      "text/plain": [
       "'2020-05-20'"
      ]
     },
     "execution_count": 208,
     "metadata": {},
     "output_type": "execute_result"
    }
   ],
   "source": [
    "date_number[0]"
   ]
  },
  {
   "cell_type": "code",
   "execution_count": 209,
   "metadata": {},
   "outputs": [],
   "source": [
    "# In this code i am looking in the list of unziped files and finding the right file\n",
    "# with the LOG extension\n",
    "file_to_open = next((s for s in files if date_number[0] in s),None)"
   ]
  },
  {
   "cell_type": "code",
   "execution_count": 210,
   "metadata": {},
   "outputs": [
    {
     "data": {
      "text/plain": [
       "'2020-05-20__04-55-56.log'"
      ]
     },
     "execution_count": 210,
     "metadata": {},
     "output_type": "execute_result"
    }
   ],
   "source": [
    "file_to_open"
   ]
  },
  {
   "cell_type": "code",
   "execution_count": 211,
   "metadata": {},
   "outputs": [],
   "source": [
    "#converting date_number to DATETIME dataframe\n",
    "datenumber= pd.to_datetime(date_number[0])"
   ]
  },
  {
   "cell_type": "markdown",
   "metadata": {},
   "source": [
    "## Opening the file to analyse in PANDAS"
   ]
  },
  {
   "cell_type": "code",
   "execution_count": 212,
   "metadata": {},
   "outputs": [],
   "source": [
    "import csv"
   ]
  },
  {
   "cell_type": "code",
   "execution_count": 213,
   "metadata": {},
   "outputs": [],
   "source": [
    "#logfile_csv = pd.read_csv(file_to_open, delimiter=\"|\", header=0 , names =[1,2,3,4,5,6], encoding=\"ISO-8859-1\")\n",
    "#logfile_csv = pd.read_csv(file_to_open, delimiter=\"|\", names = [1,2,3,4,5,6], encoding=\"ISO-8859-1\")\n",
    "df = pd.read_csv(file_to_open, delimiter=\"|\", names = [\"date\",2,3,4,5,6], encoding=\"ISO-8859-1\")"
   ]
  },
  {
   "cell_type": "code",
   "execution_count": 214,
   "metadata": {
    "scrolled": true
   },
   "outputs": [],
   "source": [
    "df.drop(df.head(1).index, inplace=True)"
   ]
  },
  {
   "cell_type": "code",
   "execution_count": 215,
   "metadata": {},
   "outputs": [],
   "source": [
    "df.drop(df.tail(1).index, inplace=True)"
   ]
  },
  {
   "cell_type": "code",
   "execution_count": 216,
   "metadata": {},
   "outputs": [
    {
     "data": {
      "text/html": [
       "<div>\n",
       "<style scoped>\n",
       "    .dataframe tbody tr th:only-of-type {\n",
       "        vertical-align: middle;\n",
       "    }\n",
       "\n",
       "    .dataframe tbody tr th {\n",
       "        vertical-align: top;\n",
       "    }\n",
       "\n",
       "    .dataframe thead th {\n",
       "        text-align: right;\n",
       "    }\n",
       "</style>\n",
       "<table border=\"1\" class=\"dataframe\">\n",
       "  <thead>\n",
       "    <tr style=\"text-align: right;\">\n",
       "      <th></th>\n",
       "      <th>date</th>\n",
       "      <th>2</th>\n",
       "      <th>3</th>\n",
       "      <th>4</th>\n",
       "      <th>5</th>\n",
       "      <th>6</th>\n",
       "    </tr>\n",
       "  </thead>\n",
       "  <tbody>\n",
       "    <tr>\n",
       "      <td>1</td>\n",
       "      <td>2020-05-19__20-39-35.140</td>\n",
       "      <td></td>\n",
       "      <td></td>\n",
       "      <td>APP</td>\n",
       "      <td>START=APP-SESSION============================...</td>\n",
       "      <td>NaN</td>\n",
       "    </tr>\n",
       "    <tr>\n",
       "      <td>2</td>\n",
       "      <td>2020-05-19__20-39-47.421</td>\n",
       "      <td>2102-021</td>\n",
       "      <td></td>\n",
       "      <td>APP</td>\n",
       "      <td>LOGIN Application Software   Version:6.1.2117...</td>\n",
       "      <td>NaN</td>\n",
       "    </tr>\n",
       "    <tr>\n",
       "      <td>3</td>\n",
       "      <td>2020-05-19__20-39-47.421</td>\n",
       "      <td></td>\n",
       "      <td></td>\n",
       "      <td>APP</td>\n",
       "      <td>LaserHz TrtLF,TrtHF,FtLF,FtHF: 1050,900,900,900</td>\n",
       "      <td>NaN</td>\n",
       "    </tr>\n",
       "    <tr>\n",
       "      <td>4</td>\n",
       "      <td>2020-05-19__20-39-50.640</td>\n",
       "      <td></td>\n",
       "      <td></td>\n",
       "      <td>APP</td>\n",
       "      <td>MCU is now online but still inside starting u...</td>\n",
       "      <td>NaN</td>\n",
       "    </tr>\n",
       "    <tr>\n",
       "      <td>5</td>\n",
       "      <td>2020-05-19__20-39-51.046</td>\n",
       "      <td></td>\n",
       "      <td></td>\n",
       "      <td>APP</td>\n",
       "      <td>Startup: (70) Checking components</td>\n",
       "      <td>NaN</td>\n",
       "    </tr>\n",
       "    <tr>\n",
       "      <td>...</td>\n",
       "      <td>...</td>\n",
       "      <td>...</td>\n",
       "      <td>...</td>\n",
       "      <td>...</td>\n",
       "      <td>...</td>\n",
       "      <td>...</td>\n",
       "    </tr>\n",
       "    <tr>\n",
       "      <td>5241</td>\n",
       "      <td>2020-05-20__04-54-27.437</td>\n",
       "      <td>2103-067</td>\n",
       "      <td></td>\n",
       "      <td>APP</td>\n",
       "      <td>END#TREAT_finished###########################...</td>\n",
       "      <td>NaN</td>\n",
       "    </tr>\n",
       "    <tr>\n",
       "      <td>5242</td>\n",
       "      <td>2020-05-20__04-54-28.671</td>\n",
       "      <td></td>\n",
       "      <td></td>\n",
       "      <td>APP</td>\n",
       "      <td>Pulsecounter:292496361</td>\n",
       "      <td>NaN</td>\n",
       "    </tr>\n",
       "    <tr>\n",
       "      <td>5243</td>\n",
       "      <td>2020-05-20__04-54-29.781</td>\n",
       "      <td></td>\n",
       "      <td></td>\n",
       "      <td>APP</td>\n",
       "      <td>#### Entering Mainmenu ######################...</td>\n",
       "      <td>NaN</td>\n",
       "    </tr>\n",
       "    <tr>\n",
       "      <td>5244</td>\n",
       "      <td>2020-05-20__04-55-38.515</td>\n",
       "      <td></td>\n",
       "      <td></td>\n",
       "      <td>APP</td>\n",
       "      <td>Menu \"Functions\"</td>\n",
       "      <td>NaN</td>\n",
       "    </tr>\n",
       "    <tr>\n",
       "      <td>5245</td>\n",
       "      <td>2020-05-20__04-55-39.609</td>\n",
       "      <td></td>\n",
       "      <td></td>\n",
       "      <td>APP</td>\n",
       "      <td>Menu \"Export Logfiles\"</td>\n",
       "      <td>NaN</td>\n",
       "    </tr>\n",
       "  </tbody>\n",
       "</table>\n",
       "<p>5245 rows × 6 columns</p>\n",
       "</div>"
      ],
      "text/plain": [
       "                           date         2         3               4  \\\n",
       "1     2020-05-19__20-39-35.140                        APP             \n",
       "2     2020-05-19__20-39-47.421   2102-021             APP             \n",
       "3     2020-05-19__20-39-47.421                        APP             \n",
       "4     2020-05-19__20-39-50.640                        APP             \n",
       "5     2020-05-19__20-39-51.046                        APP             \n",
       "...                         ...       ...       ...             ...   \n",
       "5241  2020-05-20__04-54-27.437   2103-067             APP             \n",
       "5242  2020-05-20__04-54-28.671                        APP             \n",
       "5243  2020-05-20__04-54-29.781                        APP             \n",
       "5244  2020-05-20__04-55-38.515                        APP             \n",
       "5245  2020-05-20__04-55-39.609                        APP             \n",
       "\n",
       "                                                      5    6  \n",
       "1      START=APP-SESSION============================...  NaN  \n",
       "2      LOGIN Application Software   Version:6.1.2117...  NaN  \n",
       "3       LaserHz TrtLF,TrtHF,FtLF,FtHF: 1050,900,900,900  NaN  \n",
       "4      MCU is now online but still inside starting u...  NaN  \n",
       "5                     Startup: (70) Checking components  NaN  \n",
       "...                                                 ...  ...  \n",
       "5241   END#TREAT_finished###########################...  NaN  \n",
       "5242                             Pulsecounter:292496361  NaN  \n",
       "5243   #### Entering Mainmenu ######################...  NaN  \n",
       "5244                                   Menu \"Functions\"  NaN  \n",
       "5245                             Menu \"Export Logfiles\"  NaN  \n",
       "\n",
       "[5245 rows x 6 columns]"
      ]
     },
     "execution_count": 216,
     "metadata": {},
     "output_type": "execute_result"
    }
   ],
   "source": [
    "df"
   ]
  },
  {
   "cell_type": "code",
   "execution_count": 217,
   "metadata": {},
   "outputs": [],
   "source": [
    "#converting date colum in DATETIME data type\n",
    "df[\"date\"]=pd.to_datetime(df.date, format= \"%Y-%m-%d__%H-%M-%S.%f \")"
   ]
  },
  {
   "cell_type": "markdown",
   "metadata": {},
   "source": [
    "## LAST FLUENCE "
   ]
  },
  {
   "cell_type": "code",
   "execution_count": 218,
   "metadata": {},
   "outputs": [],
   "source": [
    "#code for fluence is 2116-042, so I looked the rows with this value on column 2\n",
    "#df.loc[df['column_name'] == some_value]\n",
    "#date_number is the date of the current logfile\n",
    "\n",
    "#last_fluence = df.loc[(df[2]==\"2116-042\")&(df[\"date\"]>=date_number[0])]\n",
    "last_fluence = df.loc[(df[2]==\"2116-042\")&(df[\"date\"]>=datenumber)]"
   ]
  },
  {
   "cell_type": "code",
   "execution_count": 219,
   "metadata": {},
   "outputs": [
    {
     "data": {
      "text/html": [
       "<div>\n",
       "<style scoped>\n",
       "    .dataframe tbody tr th:only-of-type {\n",
       "        vertical-align: middle;\n",
       "    }\n",
       "\n",
       "    .dataframe tbody tr th {\n",
       "        vertical-align: top;\n",
       "    }\n",
       "\n",
       "    .dataframe thead th {\n",
       "        text-align: right;\n",
       "    }\n",
       "</style>\n",
       "<table border=\"1\" class=\"dataframe\">\n",
       "  <thead>\n",
       "    <tr style=\"text-align: right;\">\n",
       "      <th></th>\n",
       "      <th>date</th>\n",
       "      <th>2</th>\n",
       "      <th>3</th>\n",
       "      <th>4</th>\n",
       "      <th>5</th>\n",
       "      <th>6</th>\n",
       "    </tr>\n",
       "  </thead>\n",
       "  <tbody>\n",
       "    <tr>\n",
       "      <td>4460</td>\n",
       "      <td>2020-05-20 03:39:18.421</td>\n",
       "      <td>2116-042</td>\n",
       "      <td></td>\n",
       "      <td>APP</td>\n",
       "      <td>Fluence values: High Fluence: 654   Low Fluen...</td>\n",
       "      <td>NaN</td>\n",
       "    </tr>\n",
       "    <tr>\n",
       "      <td>4531</td>\n",
       "      <td>2020-05-20 03:45:20.312</td>\n",
       "      <td>2116-042</td>\n",
       "      <td></td>\n",
       "      <td>APP</td>\n",
       "      <td>Fluence values: High Fluence: 655   Low Fluen...</td>\n",
       "      <td>NaN</td>\n",
       "    </tr>\n",
       "    <tr>\n",
       "      <td>4656</td>\n",
       "      <td>2020-05-20 04:03:12.562</td>\n",
       "      <td>2116-042</td>\n",
       "      <td></td>\n",
       "      <td>APP</td>\n",
       "      <td>Fluence values: High Fluence: 649   Low Fluen...</td>\n",
       "      <td>NaN</td>\n",
       "    </tr>\n",
       "  </tbody>\n",
       "</table>\n",
       "</div>"
      ],
      "text/plain": [
       "                        date         2         3               4  \\\n",
       "4460 2020-05-20 03:39:18.421  2116-042             APP             \n",
       "4531 2020-05-20 03:45:20.312  2116-042             APP             \n",
       "4656 2020-05-20 04:03:12.562  2116-042             APP             \n",
       "\n",
       "                                                      5    6  \n",
       "4460   Fluence values: High Fluence: 654   Low Fluen...  NaN  \n",
       "4531   Fluence values: High Fluence: 655   Low Fluen...  NaN  \n",
       "4656   Fluence values: High Fluence: 649   Low Fluen...  NaN  "
      ]
     },
     "execution_count": 219,
     "metadata": {},
     "output_type": "execute_result"
    }
   ],
   "source": [
    "last_fluence"
   ]
  },
  {
   "cell_type": "code",
   "execution_count": 220,
   "metadata": {},
   "outputs": [
    {
     "data": {
      "text/plain": [
       "4460     Fluence values: High Fluence: 654   Low Fluen...\n",
       "4531     Fluence values: High Fluence: 655   Low Fluen...\n",
       "4656     Fluence values: High Fluence: 649   Low Fluen...\n",
       "Name: 5, dtype: object"
      ]
     },
     "execution_count": 220,
     "metadata": {},
     "output_type": "execute_result"
    }
   ],
   "source": [
    "#the column 5 is where all the fluence values are.\n",
    "last_fluence[5]"
   ]
  },
  {
   "cell_type": "code",
   "execution_count": 221,
   "metadata": {},
   "outputs": [],
   "source": [
    "#In this step, I split the column 5 in order to have every value in its own column\n",
    "values_last_fluence = last_fluence[5].str.split(\"   \", n = 0, expand = True)"
   ]
  },
  {
   "cell_type": "code",
   "execution_count": 222,
   "metadata": {},
   "outputs": [],
   "source": [
    "#removing \"Fluence values: \" string from the column 0 - in order to clean the data\n",
    "#removing strings before the values on each column\n",
    "values_last_fluence[0] = values_last_fluence[0].str.replace(\"Fluence values: High Fluence: \",\"\")\n",
    "values_last_fluence[1] = values_last_fluence[1].str.replace(\"Low Fluence: \",\"\")\n",
    "values_last_fluence[2] = values_last_fluence[2].str.replace(\"HV: \", \"\")\n",
    "values_last_fluence[3] = values_last_fluence[3].str.replace(\"NominalHF: \", \"\")\n",
    "values_last_fluence[4] = values_last_fluence[4].str.replace(\"NominalLF: \", \"\")\n",
    "values_last_fluence[5] = values_last_fluence[5].str.replace(\"E_preset_HI : \", \"\")\n",
    "values_last_fluence[6] = values_last_fluence[6].str.replace(\"E_preset_LO : \", \"\")\n",
    "values_last_fluence[7] = values_last_fluence[7].str.replace(\"HV_min:  \", \"\")\n",
    "values_last_fluence[8] = values_last_fluence[8].str.replace(\"HV_max:  \", \"\")\n",
    "values_last_fluence[9] = values_last_fluence[9].str.replace(\"LaserTemperature: \", \"\")\n"
   ]
  },
  {
   "cell_type": "code",
   "execution_count": 223,
   "metadata": {},
   "outputs": [],
   "source": [
    "#rename the column name\n",
    "values_last_fluence.columns=[\"High Fluence\", \"Low Fluence\", \"HV\", \"Nominal HF\", \"Nominal LF\", \"High Energy\", \"Low Energy\", \"HV min\", \"HV max\", \"Temp\"]"
   ]
  },
  {
   "cell_type": "code",
   "execution_count": 224,
   "metadata": {},
   "outputs": [
    {
     "data": {
      "text/html": [
       "<div>\n",
       "<style scoped>\n",
       "    .dataframe tbody tr th:only-of-type {\n",
       "        vertical-align: middle;\n",
       "    }\n",
       "\n",
       "    .dataframe tbody tr th {\n",
       "        vertical-align: top;\n",
       "    }\n",
       "\n",
       "    .dataframe thead th {\n",
       "        text-align: right;\n",
       "    }\n",
       "</style>\n",
       "<table border=\"1\" class=\"dataframe\">\n",
       "  <thead>\n",
       "    <tr style=\"text-align: right;\">\n",
       "      <th></th>\n",
       "      <th>High Fluence</th>\n",
       "      <th>Low Fluence</th>\n",
       "      <th>HV</th>\n",
       "      <th>Nominal HF</th>\n",
       "      <th>Nominal LF</th>\n",
       "      <th>High Energy</th>\n",
       "      <th>Low Energy</th>\n",
       "      <th>HV min</th>\n",
       "      <th>HV max</th>\n",
       "      <th>Temp</th>\n",
       "    </tr>\n",
       "  </thead>\n",
       "  <tbody>\n",
       "    <tr>\n",
       "      <td>4656</td>\n",
       "      <td>649</td>\n",
       "      <td>582</td>\n",
       "      <td>843</td>\n",
       "      <td>673</td>\n",
       "      <td>558</td>\n",
       "      <td>290</td>\n",
       "      <td>280</td>\n",
       "      <td>801</td>\n",
       "      <td>860</td>\n",
       "      <td>39</td>\n",
       "    </tr>\n",
       "  </tbody>\n",
       "</table>\n",
       "</div>"
      ],
      "text/plain": [
       "     High Fluence Low Fluence   HV Nominal HF Nominal LF High Energy  \\\n",
       "4656          649         582  843        673        558         290   \n",
       "\n",
       "     Low Energy HV min HV max Temp  \n",
       "4656        280    801    860   39  "
      ]
     },
     "execution_count": 224,
     "metadata": {},
     "output_type": "execute_result"
    }
   ],
   "source": [
    "#last fluence value\n",
    "values_last_fluence.tail(1)"
   ]
  },
  {
   "cell_type": "code",
   "execution_count": 225,
   "metadata": {},
   "outputs": [],
   "source": [
    "valueslastfluence=values_last_fluence.tail(1)"
   ]
  },
  {
   "cell_type": "code",
   "execution_count": 226,
   "metadata": {},
   "outputs": [
    {
     "data": {
      "text/plain": [
       "4656     649\n",
       "Name: High Fluence, dtype: object"
      ]
     },
     "execution_count": 226,
     "metadata": {},
     "output_type": "execute_result"
    }
   ],
   "source": [
    "valueslastfluence[\"High Fluence\"]"
   ]
  },
  {
   "cell_type": "code",
   "execution_count": null,
   "metadata": {},
   "outputs": [],
   "source": []
  },
  {
   "cell_type": "code",
   "execution_count": null,
   "metadata": {},
   "outputs": [],
   "source": []
  },
  {
   "cell_type": "markdown",
   "metadata": {},
   "source": [
    "## Gas Exchage"
   ]
  },
  {
   "cell_type": "code",
   "execution_count": 227,
   "metadata": {},
   "outputs": [],
   "source": [
    "#searching for the string \"2115-012\" where gas exchange is located\n",
    "#gas = df.loc[(df[2]==\"2115-012\")&(df[\"date\"]>=date_number[0])]\n",
    "gas = df.loc[(df[2]==\"2115-012\")&(df[\"date\"]>=datenumber)]"
   ]
  },
  {
   "cell_type": "code",
   "execution_count": 228,
   "metadata": {},
   "outputs": [
    {
     "name": "stdout",
     "output_type": "stream",
     "text": [
      "no hay dato\n"
     ]
    }
   ],
   "source": [
    "if (gas.empty):\n",
    "    print(\"no hay dato\")\n",
    "else:\n",
    "    print (gas)"
   ]
  },
  {
   "cell_type": "code",
   "execution_count": null,
   "metadata": {},
   "outputs": [],
   "source": []
  },
  {
   "cell_type": "markdown",
   "metadata": {},
   "source": [
    "# Opening a new data frame from lasercfg file"
   ]
  },
  {
   "cell_type": "markdown",
   "metadata": {},
   "source": [
    "## Getting the laser serial number"
   ]
  },
  {
   "cell_type": "code",
   "execution_count": 229,
   "metadata": {},
   "outputs": [],
   "source": [
    "# openning new file laser.cfg and transforming it to DATAFRAME df2\n",
    "laser_cfg_file_to_open = \"laser.cfg\"\n",
    "df2 = pd.read_csv(laser_cfg_file_to_open, header=None)"
   ]
  },
  {
   "cell_type": "code",
   "execution_count": 230,
   "metadata": {},
   "outputs": [],
   "source": [
    "# find the row with string SerialNumber in order to get the serial number\n",
    "serial_number_row = df2[df2[0].str.contains(\"SerialNumber\")]"
   ]
  },
  {
   "cell_type": "code",
   "execution_count": 231,
   "metadata": {},
   "outputs": [],
   "source": [
    "serial_number = serial_number_row[0].str.replace(\"SerialNumber=\",\"\")"
   ]
  },
  {
   "cell_type": "code",
   "execution_count": 232,
   "metadata": {
    "scrolled": false
   },
   "outputs": [
    {
     "data": {
      "text/plain": [
       "1    R444\n",
       "Name: 0, dtype: object"
      ]
     },
     "execution_count": 232,
     "metadata": {},
     "output_type": "execute_result"
    }
   ],
   "source": [
    "serial_number"
   ]
  },
  {
   "cell_type": "code",
   "execution_count": null,
   "metadata": {},
   "outputs": [],
   "source": []
  },
  {
   "cell_type": "markdown",
   "metadata": {},
   "source": [
    "## Getting the customer information"
   ]
  },
  {
   "cell_type": "code",
   "execution_count": 233,
   "metadata": {},
   "outputs": [],
   "source": [
    "#find the location index where the name Clinic is located\n",
    "customer_row = df2[df2[0].str.contains(\"Clinic\")].index.values"
   ]
  },
  {
   "cell_type": "code",
   "execution_count": 234,
   "metadata": {},
   "outputs": [],
   "source": [
    "#If I know the index of Clinic, I can sum +1 then I can find the customer's name\n",
    "client_name = df2.iloc[customer_row[0]+1].str.replace(\"Name=\",\"\")\n",
    "\n",
    "#If I sum +2 to index where Clinic is located, I can find customer's street\n",
    "client_address = df2.iloc[customer_row[0]+2].str.replace(\"Street=\",\"\")\n",
    "\n",
    "#If I sum +3 to index where Clinic is located, I can find customer's Town\n",
    "client_town = df2.iloc[customer_row[0]+3].str.replace(\"Town=\",\"\")\n",
    "\n",
    "#If I sum +4 to index where Clinic is located, I can find customer's Country\n",
    "client_country = df2.iloc[customer_row[0]+4].str.replace(\"Country=\",\"\")\n",
    "\n",
    "#If I sum +5 to index where Clinic is located, I can find customer's Phone\n",
    "client_phone = df2.iloc[customer_row[0]+5].str.replace(\"Phone=\",\"\")\n",
    "\n",
    "#If I sum +7 to index where Clinic is located, I can find customer's Email\n",
    "client_email = df2.iloc[customer_row[0]+7].str.replace(\"Email=\",\"\")"
   ]
  },
  {
   "cell_type": "code",
   "execution_count": null,
   "metadata": {},
   "outputs": [],
   "source": []
  },
  {
   "cell_type": "markdown",
   "metadata": {},
   "source": [
    "## Pulse counter from lasercfg file"
   ]
  },
  {
   "cell_type": "code",
   "execution_count": null,
   "metadata": {},
   "outputs": [],
   "source": []
  },
  {
   "cell_type": "code",
   "execution_count": 235,
   "metadata": {},
   "outputs": [],
   "source": [
    "# find the row with string Pulsecounter in order to get the laser's pulses\n",
    "pulsecounter_row = df2[df2[0].str.contains(\"Pulsecounter\")]"
   ]
  },
  {
   "cell_type": "code",
   "execution_count": 236,
   "metadata": {},
   "outputs": [],
   "source": [
    "pulsecounter = pulsecounter_row[0].str.replace(\"Pulsecounter=\",\"\")"
   ]
  },
  {
   "cell_type": "code",
   "execution_count": 237,
   "metadata": {},
   "outputs": [
    {
     "data": {
      "text/plain": [
       "118    292496361\n",
       "Name: 0, dtype: object"
      ]
     },
     "execution_count": 237,
     "metadata": {},
     "output_type": "execute_result"
    }
   ],
   "source": [
    "pulsecounter"
   ]
  },
  {
   "cell_type": "markdown",
   "metadata": {},
   "source": [
    "## Num of gas remain gas exchanges"
   ]
  },
  {
   "cell_type": "code",
   "execution_count": 238,
   "metadata": {},
   "outputs": [],
   "source": [
    "# find the row with string NoOfRemainingGasExchangesApprox in order to get the laser's gas exchange left\n",
    "remaingas_row = df2[df2[0].str.contains(\"NoOfRemainingGasExchangesApprox\")]\n",
    "num_remain_gas = remaingas_row[0].str.replace(\"NoOfRemainingGasExchangesApprox=\",\"\")"
   ]
  },
  {
   "cell_type": "code",
   "execution_count": 239,
   "metadata": {},
   "outputs": [
    {
     "data": {
      "text/plain": [
       "117    33\n",
       "Name: 0, dtype: object"
      ]
     },
     "execution_count": 239,
     "metadata": {},
     "output_type": "execute_result"
    }
   ],
   "source": [
    "num_remain_gas"
   ]
  },
  {
   "cell_type": "code",
   "execution_count": null,
   "metadata": {},
   "outputs": [],
   "source": []
  },
  {
   "cell_type": "markdown",
   "metadata": {},
   "source": [
    "# Reading SysConfigInfo"
   ]
  },
  {
   "cell_type": "markdown",
   "metadata": {},
   "source": [
    "## Getting application software version"
   ]
  },
  {
   "cell_type": "code",
   "execution_count": 240,
   "metadata": {},
   "outputs": [],
   "source": [
    "Sysconfiginfo_file_to_open = \"SysConfigInfo\""
   ]
  },
  {
   "cell_type": "code",
   "execution_count": 241,
   "metadata": {},
   "outputs": [],
   "source": [
    "df3 = pd.read_csv(Sysconfiginfo_file_to_open, header=None, usecols=[0], encoding=\"ISO-8859-1\")"
   ]
  },
  {
   "cell_type": "code",
   "execution_count": 242,
   "metadata": {},
   "outputs": [],
   "source": [
    "# find the row with string Application in order to get the laser's Application software version\n",
    "app_sw_row = df3[df3[0].str.contains(\"Application\")]"
   ]
  },
  {
   "cell_type": "code",
   "execution_count": 243,
   "metadata": {},
   "outputs": [],
   "source": [
    "application_sw = app_sw_row[0].str.replace(\"Application_SW:   \",\"\")"
   ]
  },
  {
   "cell_type": "code",
   "execution_count": 244,
   "metadata": {},
   "outputs": [
    {
     "data": {
      "text/plain": [
       "4    6.1.2117.702\n",
       "Name: 0, dtype: object"
      ]
     },
     "execution_count": 244,
     "metadata": {},
     "output_type": "execute_result"
    }
   ],
   "source": [
    "application_sw"
   ]
  },
  {
   "cell_type": "code",
   "execution_count": null,
   "metadata": {},
   "outputs": [],
   "source": []
  },
  {
   "cell_type": "markdown",
   "metadata": {},
   "source": [
    "## Getting CAM software version"
   ]
  },
  {
   "cell_type": "code",
   "execution_count": 245,
   "metadata": {},
   "outputs": [],
   "source": [
    "# find the row with string CAMinternal in order to get the laser's Application software version\n",
    "cam_sw_row = df3[df3[0].str.contains(\"CAMinternal\")]"
   ]
  },
  {
   "cell_type": "code",
   "execution_count": 246,
   "metadata": {},
   "outputs": [],
   "source": [
    "cam_sw = cam_sw_row[0].str.replace(\"CAMinternal_SW:   \",\"\")"
   ]
  },
  {
   "cell_type": "code",
   "execution_count": 247,
   "metadata": {},
   "outputs": [
    {
     "data": {
      "text/plain": [
       "5    5.2.23.1703\n",
       "Name: 0, dtype: object"
      ]
     },
     "execution_count": 247,
     "metadata": {},
     "output_type": "execute_result"
    }
   ],
   "source": [
    "cam_sw"
   ]
  },
  {
   "cell_type": "code",
   "execution_count": null,
   "metadata": {},
   "outputs": [],
   "source": []
  },
  {
   "cell_type": "markdown",
   "metadata": {},
   "source": [
    "# Reading ServiceActivity.log"
   ]
  },
  {
   "cell_type": "code",
   "execution_count": 329,
   "metadata": {},
   "outputs": [],
   "source": [
    "serviceactivitylog_to_open = \"ServiceActivity.log\""
   ]
  },
  {
   "cell_type": "code",
   "execution_count": 330,
   "metadata": {},
   "outputs": [],
   "source": [
    "df4 = pd.read_csv(serviceactivitylog_to_open, delimiter=\"|\", names = [\"date\",1,2,3,4], header=None)"
   ]
  },
  {
   "cell_type": "code",
   "execution_count": 331,
   "metadata": {},
   "outputs": [],
   "source": [
    "df4[\"date\"]=pd.to_datetime(df4[\"date\"], format= \"%Y-%m-%d__%H-%M-%S.%f \")"
   ]
  },
  {
   "cell_type": "code",
   "execution_count": 270,
   "metadata": {},
   "outputs": [],
   "source": [
    "#df4.set_index(\"date\", inplace=True)"
   ]
  },
  {
   "cell_type": "code",
   "execution_count": 332,
   "metadata": {},
   "outputs": [
    {
     "data": {
      "text/html": [
       "<div>\n",
       "<style scoped>\n",
       "    .dataframe tbody tr th:only-of-type {\n",
       "        vertical-align: middle;\n",
       "    }\n",
       "\n",
       "    .dataframe tbody tr th {\n",
       "        vertical-align: top;\n",
       "    }\n",
       "\n",
       "    .dataframe thead th {\n",
       "        text-align: right;\n",
       "    }\n",
       "</style>\n",
       "<table border=\"1\" class=\"dataframe\">\n",
       "  <thead>\n",
       "    <tr style=\"text-align: right;\">\n",
       "      <th></th>\n",
       "      <th>date</th>\n",
       "      <th>1</th>\n",
       "      <th>2</th>\n",
       "      <th>3</th>\n",
       "      <th>4</th>\n",
       "    </tr>\n",
       "  </thead>\n",
       "  <tbody>\n",
       "    <tr>\n",
       "      <td>0</td>\n",
       "      <td>2013-10-31 15:16:39.609</td>\n",
       "      <td>89-00107</td>\n",
       "      <td>SrvAct</td>\n",
       "      <td>SERVICESW</td>\n",
       "      <td>Pulsecounter:7968468   Action:\"Free Comment\" ...</td>\n",
       "    </tr>\n",
       "    <tr>\n",
       "      <td>1</td>\n",
       "      <td>2013-10-31 15:16:39.609</td>\n",
       "      <td>89-00199</td>\n",
       "      <td>SrvAct</td>\n",
       "      <td>SERVICESW</td>\n",
       "      <td>Comment:Installed, camera added, CLX365 added,</td>\n",
       "    </tr>\n",
       "    <tr>\n",
       "      <td>2</td>\n",
       "      <td>2013-11-01 10:29:37.828</td>\n",
       "      <td>89-02001</td>\n",
       "      <td>SrvAct</td>\n",
       "      <td>SERVICESW</td>\n",
       "      <td>Pulsecounter:8673604   Action:\"PMMA Test\"  SN...</td>\n",
       "    </tr>\n",
       "    <tr>\n",
       "      <td>3</td>\n",
       "      <td>2013-11-01 10:29:37.875</td>\n",
       "      <td>89-02099</td>\n",
       "      <td>SrvAct</td>\n",
       "      <td>SERVICESW</td>\n",
       "      <td>Comment:Passed</td>\n",
       "    </tr>\n",
       "    <tr>\n",
       "      <td>4</td>\n",
       "      <td>2014-02-26 15:49:46.281</td>\n",
       "      <td>89-00402</td>\n",
       "      <td>SrvAct</td>\n",
       "      <td>SERVICESW</td>\n",
       "      <td>Pulsecounter:22933105   Action:\"Beam splitter...</td>\n",
       "    </tr>\n",
       "    <tr>\n",
       "      <td>...</td>\n",
       "      <td>...</td>\n",
       "      <td>...</td>\n",
       "      <td>...</td>\n",
       "      <td>...</td>\n",
       "      <td>...</td>\n",
       "    </tr>\n",
       "    <tr>\n",
       "      <td>126</td>\n",
       "      <td>2020-05-20 03:36:03.437</td>\n",
       "      <td>89-01399</td>\n",
       "      <td>SrvAct</td>\n",
       "      <td>SERVICESW</td>\n",
       "      <td>Comment:Andres Nino lacu beamsplitter exchanged</td>\n",
       "    </tr>\n",
       "    <tr>\n",
       "      <td>127</td>\n",
       "      <td>2020-05-20 03:36:13.796</td>\n",
       "      <td>89-01602</td>\n",
       "      <td>SrvAct</td>\n",
       "      <td>SERVICESW</td>\n",
       "      <td>Pulsecounter:292013536   Action:\"Microscope T...</td>\n",
       "    </tr>\n",
       "    <tr>\n",
       "      <td>128</td>\n",
       "      <td>2020-05-20 03:36:13.796</td>\n",
       "      <td>89-01699</td>\n",
       "      <td>SrvAct</td>\n",
       "      <td>SERVICESW</td>\n",
       "      <td>Comment:Andres Nino tm3 exchanged</td>\n",
       "    </tr>\n",
       "    <tr>\n",
       "      <td>129</td>\n",
       "      <td>2020-05-20 03:51:53.968</td>\n",
       "      <td>89-00107</td>\n",
       "      <td>SrvAct</td>\n",
       "      <td>SERVICESW</td>\n",
       "      <td>Pulsecounter:292133845   Action:\"Free Comment...</td>\n",
       "    </tr>\n",
       "    <tr>\n",
       "      <td>130</td>\n",
       "      <td>2020-05-20 03:51:53.968</td>\n",
       "      <td>89-00199</td>\n",
       "      <td>SrvAct</td>\n",
       "      <td>SERVICESW</td>\n",
       "      <td>Comment:Andres Nino Halogen gas filter change...</td>\n",
       "    </tr>\n",
       "  </tbody>\n",
       "</table>\n",
       "<p>131 rows × 5 columns</p>\n",
       "</div>"
      ],
      "text/plain": [
       "                       date         1         2               3  \\\n",
       "0   2013-10-31 15:16:39.609  89-00107   SrvAct    SERVICESW       \n",
       "1   2013-10-31 15:16:39.609  89-00199   SrvAct    SERVICESW       \n",
       "2   2013-11-01 10:29:37.828  89-02001   SrvAct    SERVICESW       \n",
       "3   2013-11-01 10:29:37.875  89-02099   SrvAct    SERVICESW       \n",
       "4   2014-02-26 15:49:46.281  89-00402   SrvAct    SERVICESW       \n",
       "..                      ...       ...       ...             ...   \n",
       "126 2020-05-20 03:36:03.437  89-01399   SrvAct    SERVICESW       \n",
       "127 2020-05-20 03:36:13.796  89-01602   SrvAct    SERVICESW       \n",
       "128 2020-05-20 03:36:13.796  89-01699   SrvAct    SERVICESW       \n",
       "129 2020-05-20 03:51:53.968  89-00107   SrvAct    SERVICESW       \n",
       "130 2020-05-20 03:51:53.968  89-00199   SrvAct    SERVICESW       \n",
       "\n",
       "                                                     4  \n",
       "0     Pulsecounter:7968468   Action:\"Free Comment\" ...  \n",
       "1       Comment:Installed, camera added, CLX365 added,  \n",
       "2     Pulsecounter:8673604   Action:\"PMMA Test\"  SN...  \n",
       "3                                       Comment:Passed  \n",
       "4     Pulsecounter:22933105   Action:\"Beam splitter...  \n",
       "..                                                 ...  \n",
       "126    Comment:Andres Nino lacu beamsplitter exchanged  \n",
       "127   Pulsecounter:292013536   Action:\"Microscope T...  \n",
       "128                  Comment:Andres Nino tm3 exchanged  \n",
       "129   Pulsecounter:292133845   Action:\"Free Comment...  \n",
       "130   Comment:Andres Nino Halogen gas filter change...  \n",
       "\n",
       "[131 rows x 5 columns]"
      ]
     },
     "execution_count": 332,
     "metadata": {},
     "output_type": "execute_result"
    }
   ],
   "source": [
    "df4"
   ]
  },
  {
   "cell_type": "code",
   "execution_count": 355,
   "metadata": {},
   "outputs": [],
   "source": [
    "ultimo=df4.loc[df4[\"date\"]<\"2020\"]"
   ]
  },
  {
   "cell_type": "code",
   "execution_count": 356,
   "metadata": {},
   "outputs": [
    {
     "data": {
      "text/html": [
       "<div>\n",
       "<style scoped>\n",
       "    .dataframe tbody tr th:only-of-type {\n",
       "        vertical-align: middle;\n",
       "    }\n",
       "\n",
       "    .dataframe tbody tr th {\n",
       "        vertical-align: top;\n",
       "    }\n",
       "\n",
       "    .dataframe thead th {\n",
       "        text-align: right;\n",
       "    }\n",
       "</style>\n",
       "<table border=\"1\" class=\"dataframe\">\n",
       "  <thead>\n",
       "    <tr style=\"text-align: right;\">\n",
       "      <th></th>\n",
       "      <th>date</th>\n",
       "      <th>1</th>\n",
       "      <th>2</th>\n",
       "      <th>3</th>\n",
       "      <th>4</th>\n",
       "    </tr>\n",
       "  </thead>\n",
       "  <tbody>\n",
       "    <tr>\n",
       "      <td>0</td>\n",
       "      <td>2013-10-31 15:16:39.609</td>\n",
       "      <td>89-00107</td>\n",
       "      <td>SrvAct</td>\n",
       "      <td>SERVICESW</td>\n",
       "      <td>Pulsecounter:7968468   Action:\"Free Comment\" ...</td>\n",
       "    </tr>\n",
       "    <tr>\n",
       "      <td>1</td>\n",
       "      <td>2013-10-31 15:16:39.609</td>\n",
       "      <td>89-00199</td>\n",
       "      <td>SrvAct</td>\n",
       "      <td>SERVICESW</td>\n",
       "      <td>Comment:Installed, camera added, CLX365 added,</td>\n",
       "    </tr>\n",
       "    <tr>\n",
       "      <td>2</td>\n",
       "      <td>2013-11-01 10:29:37.828</td>\n",
       "      <td>89-02001</td>\n",
       "      <td>SrvAct</td>\n",
       "      <td>SERVICESW</td>\n",
       "      <td>Pulsecounter:8673604   Action:\"PMMA Test\"  SN...</td>\n",
       "    </tr>\n",
       "    <tr>\n",
       "      <td>3</td>\n",
       "      <td>2013-11-01 10:29:37.875</td>\n",
       "      <td>89-02099</td>\n",
       "      <td>SrvAct</td>\n",
       "      <td>SERVICESW</td>\n",
       "      <td>Comment:Passed</td>\n",
       "    </tr>\n",
       "    <tr>\n",
       "      <td>4</td>\n",
       "      <td>2014-02-26 15:49:46.281</td>\n",
       "      <td>89-00402</td>\n",
       "      <td>SrvAct</td>\n",
       "      <td>SERVICESW</td>\n",
       "      <td>Pulsecounter:22933105   Action:\"Beam splitter...</td>\n",
       "    </tr>\n",
       "    <tr>\n",
       "      <td>...</td>\n",
       "      <td>...</td>\n",
       "      <td>...</td>\n",
       "      <td>...</td>\n",
       "      <td>...</td>\n",
       "      <td>...</td>\n",
       "    </tr>\n",
       "    <tr>\n",
       "      <td>100</td>\n",
       "      <td>2019-11-14 21:37:35.515</td>\n",
       "      <td>89-01999</td>\n",
       "      <td>SrvAct</td>\n",
       "      <td>SERVICESW</td>\n",
       "      <td>Comment:ANDRES NINO Application software upda...</td>\n",
       "    </tr>\n",
       "    <tr>\n",
       "      <td>101</td>\n",
       "      <td>2019-11-14 21:38:29.093</td>\n",
       "      <td>89-00107</td>\n",
       "      <td>SrvAct</td>\n",
       "      <td>SERVICESW</td>\n",
       "      <td>Pulsecounter:280682811   Action:\"Free Comment...</td>\n",
       "    </tr>\n",
       "    <tr>\n",
       "      <td>102</td>\n",
       "      <td>2019-11-14 21:38:29.093</td>\n",
       "      <td>89-00199</td>\n",
       "      <td>SrvAct</td>\n",
       "      <td>SERVICESW</td>\n",
       "      <td>Comment:ANDRES NINO Joystick installed and ca...</td>\n",
       "    </tr>\n",
       "    <tr>\n",
       "      <td>103</td>\n",
       "      <td>2019-11-14 21:38:41.156</td>\n",
       "      <td>89-02001</td>\n",
       "      <td>SrvAct</td>\n",
       "      <td>SERVICESW</td>\n",
       "      <td>Pulsecounter:280682811   Action:\"PMMA Test\"  ...</td>\n",
       "    </tr>\n",
       "    <tr>\n",
       "      <td>104</td>\n",
       "      <td>2019-11-14 21:38:41.156</td>\n",
       "      <td>89-02099</td>\n",
       "      <td>SrvAct</td>\n",
       "      <td>SERVICESW</td>\n",
       "      <td>Comment:ANDRES NINO pmma ok</td>\n",
       "    </tr>\n",
       "  </tbody>\n",
       "</table>\n",
       "<p>105 rows × 5 columns</p>\n",
       "</div>"
      ],
      "text/plain": [
       "                       date         1         2               3  \\\n",
       "0   2013-10-31 15:16:39.609  89-00107   SrvAct    SERVICESW       \n",
       "1   2013-10-31 15:16:39.609  89-00199   SrvAct    SERVICESW       \n",
       "2   2013-11-01 10:29:37.828  89-02001   SrvAct    SERVICESW       \n",
       "3   2013-11-01 10:29:37.875  89-02099   SrvAct    SERVICESW       \n",
       "4   2014-02-26 15:49:46.281  89-00402   SrvAct    SERVICESW       \n",
       "..                      ...       ...       ...             ...   \n",
       "100 2019-11-14 21:37:35.515  89-01999   SrvAct    SERVICESW       \n",
       "101 2019-11-14 21:38:29.093  89-00107   SrvAct    SERVICESW       \n",
       "102 2019-11-14 21:38:29.093  89-00199   SrvAct    SERVICESW       \n",
       "103 2019-11-14 21:38:41.156  89-02001   SrvAct    SERVICESW       \n",
       "104 2019-11-14 21:38:41.156  89-02099   SrvAct    SERVICESW       \n",
       "\n",
       "                                                     4  \n",
       "0     Pulsecounter:7968468   Action:\"Free Comment\" ...  \n",
       "1       Comment:Installed, camera added, CLX365 added,  \n",
       "2     Pulsecounter:8673604   Action:\"PMMA Test\"  SN...  \n",
       "3                                       Comment:Passed  \n",
       "4     Pulsecounter:22933105   Action:\"Beam splitter...  \n",
       "..                                                 ...  \n",
       "100   Comment:ANDRES NINO Application software upda...  \n",
       "101   Pulsecounter:280682811   Action:\"Free Comment...  \n",
       "102   Comment:ANDRES NINO Joystick installed and ca...  \n",
       "103   Pulsecounter:280682811   Action:\"PMMA Test\"  ...  \n",
       "104                        Comment:ANDRES NINO pmma ok  \n",
       "\n",
       "[105 rows x 5 columns]"
      ]
     },
     "execution_count": 356,
     "metadata": {},
     "output_type": "execute_result"
    }
   ],
   "source": [
    "ultimo"
   ]
  },
  {
   "cell_type": "code",
   "execution_count": null,
   "metadata": {},
   "outputs": [],
   "source": []
  },
  {
   "cell_type": "code",
   "execution_count": null,
   "metadata": {},
   "outputs": [],
   "source": []
  },
  {
   "cell_type": "code",
   "execution_count": null,
   "metadata": {},
   "outputs": [],
   "source": []
  },
  {
   "cell_type": "code",
   "execution_count": 311,
   "metadata": {
    "scrolled": true
   },
   "outputs": [
    {
     "data": {
      "text/html": [
       "<div>\n",
       "<style scoped>\n",
       "    .dataframe tbody tr th:only-of-type {\n",
       "        vertical-align: middle;\n",
       "    }\n",
       "\n",
       "    .dataframe tbody tr th {\n",
       "        vertical-align: top;\n",
       "    }\n",
       "\n",
       "    .dataframe thead th {\n",
       "        text-align: right;\n",
       "    }\n",
       "</style>\n",
       "<table border=\"1\" class=\"dataframe\">\n",
       "  <thead>\n",
       "    <tr style=\"text-align: right;\">\n",
       "      <th></th>\n",
       "      <th>1</th>\n",
       "      <th>2</th>\n",
       "      <th>3</th>\n",
       "      <th>4</th>\n",
       "    </tr>\n",
       "    <tr>\n",
       "      <th>date</th>\n",
       "      <th></th>\n",
       "      <th></th>\n",
       "      <th></th>\n",
       "      <th></th>\n",
       "    </tr>\n",
       "  </thead>\n",
       "  <tbody>\n",
       "    <tr>\n",
       "      <td>2013-10-31 15:16:39.609</td>\n",
       "      <td>89-00199</td>\n",
       "      <td>SrvAct</td>\n",
       "      <td>SERVICESW</td>\n",
       "      <td>Comment:Installed, camera added, CLX365 added,</td>\n",
       "    </tr>\n",
       "    <tr>\n",
       "      <td>2014-04-29 16:28:45.406</td>\n",
       "      <td>89-00199</td>\n",
       "      <td>SrvAct</td>\n",
       "      <td>SERVICESW</td>\n",
       "      <td>Comment:fluence calibration</td>\n",
       "    </tr>\n",
       "    <tr>\n",
       "      <td>2014-12-15 19:04:04.296</td>\n",
       "      <td>89-00199</td>\n",
       "      <td>SrvAct</td>\n",
       "      <td>SERVICESW</td>\n",
       "      <td>Comment:Smart Pulse software upgrade</td>\n",
       "    </tr>\n",
       "    <tr>\n",
       "      <td>2015-03-24 09:12:39.562</td>\n",
       "      <td>89-00199</td>\n",
       "      <td>SrvAct</td>\n",
       "      <td>SERVICESW</td>\n",
       "      <td>Comment:installed Vibration absorber for LACU...</td>\n",
       "    </tr>\n",
       "    <tr>\n",
       "      <td>2015-09-10 19:33:33.218</td>\n",
       "      <td>89-00199</td>\n",
       "      <td>SrvAct</td>\n",
       "      <td>SERVICESW</td>\n",
       "      <td>Comment:6d recalibrated</td>\n",
       "    </tr>\n",
       "    <tr>\n",
       "      <td>2015-10-08 19:46:30.609</td>\n",
       "      <td>89-00199</td>\n",
       "      <td>SrvAct</td>\n",
       "      <td>SERVICESW</td>\n",
       "      <td>Comment:OCP adjustment</td>\n",
       "    </tr>\n",
       "    <tr>\n",
       "      <td>2015-10-08 19:47:25.062</td>\n",
       "      <td>89-00199</td>\n",
       "      <td>SrvAct</td>\n",
       "      <td>SERVICESW</td>\n",
       "      <td>Comment:Laser gas tube preasure increace to 6000</td>\n",
       "    </tr>\n",
       "    <tr>\n",
       "      <td>2016-04-11 15:05:09.000</td>\n",
       "      <td>89-00199</td>\n",
       "      <td>SrvAct</td>\n",
       "      <td>SERVICESW</td>\n",
       "      <td>Comment:Reseated framegrabber. Moved SmartPul...</td>\n",
       "    </tr>\n",
       "    <tr>\n",
       "      <td>2016-11-07 17:43:16.062</td>\n",
       "      <td>89-00199</td>\n",
       "      <td>SrvAct</td>\n",
       "      <td>SERVICESW</td>\n",
       "      <td>Comment:Adjusted OCP to be coincident with cr...</td>\n",
       "    </tr>\n",
       "    <tr>\n",
       "      <td>2018-06-20 16:31:52.031</td>\n",
       "      <td>89-00199</td>\n",
       "      <td>SrvAct</td>\n",
       "      <td>SERVICESW</td>\n",
       "      <td>Comment:Daniel Colvin Installed new External ...</td>\n",
       "    </tr>\n",
       "    <tr>\n",
       "      <td>2018-10-15 11:15:48.796</td>\n",
       "      <td>89-00199</td>\n",
       "      <td>SrvAct</td>\n",
       "      <td>SERVICESW</td>\n",
       "      <td>Comment:andres nino patients bed remote contr...</td>\n",
       "    </tr>\n",
       "    <tr>\n",
       "      <td>2018-10-15 13:21:11.203</td>\n",
       "      <td>89-00199</td>\n",
       "      <td>SrvAct</td>\n",
       "      <td>SERVICESW</td>\n",
       "      <td>Comment:ANDRES NINO ENERGY ADJUSTED HIGH AND LOW</td>\n",
       "    </tr>\n",
       "    <tr>\n",
       "      <td>2018-12-17 08:44:16.453</td>\n",
       "      <td>89-00199</td>\n",
       "      <td>SrvAct</td>\n",
       "      <td>SERVICESW</td>\n",
       "      <td>Comment:andres nino 6d calibration</td>\n",
       "    </tr>\n",
       "    <tr>\n",
       "      <td>2019-05-01 17:15:04.546</td>\n",
       "      <td>89-00199</td>\n",
       "      <td>SrvAct</td>\n",
       "      <td>SERVICESW</td>\n",
       "      <td>Comment:ANDRES NINO NEW PATIENT BED MODULE IN...</td>\n",
       "    </tr>\n",
       "    <tr>\n",
       "      <td>2019-11-14 16:11:50.984</td>\n",
       "      <td>89-00199</td>\n",
       "      <td>SrvAct</td>\n",
       "      <td>SERVICESW</td>\n",
       "      <td>Comment:ANDRES NINO microscope detent ball ex...</td>\n",
       "    </tr>\n",
       "    <tr>\n",
       "      <td>2019-11-14 21:38:29.093</td>\n",
       "      <td>89-00199</td>\n",
       "      <td>SrvAct</td>\n",
       "      <td>SERVICESW</td>\n",
       "      <td>Comment:ANDRES NINO Joystick installed and ca...</td>\n",
       "    </tr>\n",
       "    <tr>\n",
       "      <td>2020-05-20 03:51:53.968</td>\n",
       "      <td>89-00199</td>\n",
       "      <td>SrvAct</td>\n",
       "      <td>SERVICESW</td>\n",
       "      <td>Comment:Andres Nino Halogen gas filter change...</td>\n",
       "    </tr>\n",
       "  </tbody>\n",
       "</table>\n",
       "</div>"
      ],
      "text/plain": [
       "                                1         2               3  \\\n",
       "date                                                          \n",
       "2013-10-31 15:16:39.609  89-00199   SrvAct    SERVICESW       \n",
       "2014-04-29 16:28:45.406  89-00199   SrvAct    SERVICESW       \n",
       "2014-12-15 19:04:04.296  89-00199   SrvAct    SERVICESW       \n",
       "2015-03-24 09:12:39.562  89-00199   SrvAct    SERVICESW       \n",
       "2015-09-10 19:33:33.218  89-00199   SrvAct    SERVICESW       \n",
       "2015-10-08 19:46:30.609  89-00199   SrvAct    SERVICESW       \n",
       "2015-10-08 19:47:25.062  89-00199   SrvAct    SERVICESW       \n",
       "2016-04-11 15:05:09.000  89-00199   SrvAct    SERVICESW       \n",
       "2016-11-07 17:43:16.062  89-00199   SrvAct    SERVICESW       \n",
       "2018-06-20 16:31:52.031  89-00199   SrvAct    SERVICESW       \n",
       "2018-10-15 11:15:48.796  89-00199   SrvAct    SERVICESW       \n",
       "2018-10-15 13:21:11.203  89-00199   SrvAct    SERVICESW       \n",
       "2018-12-17 08:44:16.453  89-00199   SrvAct    SERVICESW       \n",
       "2019-05-01 17:15:04.546  89-00199   SrvAct    SERVICESW       \n",
       "2019-11-14 16:11:50.984  89-00199   SrvAct    SERVICESW       \n",
       "2019-11-14 21:38:29.093  89-00199   SrvAct    SERVICESW       \n",
       "2020-05-20 03:51:53.968  89-00199   SrvAct    SERVICESW       \n",
       "\n",
       "                                                                         4  \n",
       "date                                                                        \n",
       "2013-10-31 15:16:39.609     Comment:Installed, camera added, CLX365 added,  \n",
       "2014-04-29 16:28:45.406                        Comment:fluence calibration  \n",
       "2014-12-15 19:04:04.296               Comment:Smart Pulse software upgrade  \n",
       "2015-03-24 09:12:39.562   Comment:installed Vibration absorber for LACU...  \n",
       "2015-09-10 19:33:33.218                            Comment:6d recalibrated  \n",
       "2015-10-08 19:46:30.609                             Comment:OCP adjustment  \n",
       "2015-10-08 19:47:25.062   Comment:Laser gas tube preasure increace to 6000  \n",
       "2016-04-11 15:05:09.000   Comment:Reseated framegrabber. Moved SmartPul...  \n",
       "2016-11-07 17:43:16.062   Comment:Adjusted OCP to be coincident with cr...  \n",
       "2018-06-20 16:31:52.031   Comment:Daniel Colvin Installed new External ...  \n",
       "2018-10-15 11:15:48.796   Comment:andres nino patients bed remote contr...  \n",
       "2018-10-15 13:21:11.203   Comment:ANDRES NINO ENERGY ADJUSTED HIGH AND LOW  \n",
       "2018-12-17 08:44:16.453                Comment:andres nino 6d calibration   \n",
       "2019-05-01 17:15:04.546   Comment:ANDRES NINO NEW PATIENT BED MODULE IN...  \n",
       "2019-11-14 16:11:50.984   Comment:ANDRES NINO microscope detent ball ex...  \n",
       "2019-11-14 21:38:29.093   Comment:ANDRES NINO Joystick installed and ca...  \n",
       "2020-05-20 03:51:53.968   Comment:Andres Nino Halogen gas filter change...  "
      ]
     },
     "execution_count": 311,
     "metadata": {},
     "output_type": "execute_result"
    }
   ],
   "source": [
    "free_comment[]"
   ]
  },
  {
   "cell_type": "code",
   "execution_count": null,
   "metadata": {},
   "outputs": [],
   "source": []
  }
 ],
 "metadata": {
  "kernelspec": {
   "display_name": "Python 3",
   "language": "python",
   "name": "python3"
  },
  "language_info": {
   "codemirror_mode": {
    "name": "ipython",
    "version": 3
   },
   "file_extension": ".py",
   "mimetype": "text/x-python",
   "name": "python",
   "nbconvert_exporter": "python",
   "pygments_lexer": "ipython3",
   "version": "3.7.4"
  }
 },
 "nbformat": 4,
 "nbformat_minor": 2
}
