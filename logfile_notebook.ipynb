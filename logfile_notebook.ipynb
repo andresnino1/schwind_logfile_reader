{
 "cells": [
  {
   "cell_type": "markdown",
   "metadata": {},
   "source": [
    "## List of variables\n",
    "\n",
    "base --> name of the zip file to open\n",
    "\n",
    "datenumber --> date of logfile (datetime object)\n",
    "\n",
    "file_to_open -- > name of the most recentrly file (.log)\n",
    "\n",
    "df -- > logfile (.log) in data frame\n",
    "\n",
    "df2 --> lasercfg file in data frame\n",
    "\n",
    "df3 -->  sysconfiginfo file in data frame\n",
    "\n",
    "df4 --> ServiceActivity file in data frame\n",
    "\n",
    "last_fluence --> data frame with fluence made on the logfile date\n",
    "\n",
    "values_last_fluence --> data frame with last fluence values\n",
    "\n",
    "valueslastfluence[\"High Fluence\"] --> High Fluence value\n",
    "\n",
    "valueslastfluence[\"Low Fluence\"] --> Low Fluence value\n",
    "\n",
    "valueslastfluence[\"HV\"] --> HV value\n",
    "\n",
    "valueslastfluence[\"High Energy\"] --> High Energy value\n",
    "\n",
    "valueslastfluence[\"Low Energy\"] --> Low Energy value\n",
    "\n",
    "valueslastfluence[\"HV min\"] --> HV minimun value\n",
    "\n",
    "valueslastfluence[\"HV max\"] --> HV maximun value\n",
    "\n",
    "valueslastfluence[\"Temp\"] --> Temperature value\n",
    "\n",
    "serial_number -- > Amaris serial number value\n",
    "\n",
    "client_name -- > client name information\n",
    "\n",
    "client_address -- > client addres infomation \n",
    "\n",
    "client_town  --> client town information\n",
    "\n",
    "client_country  --> client coutry information\n",
    "\n",
    "client_phone --> client phone information\n",
    "\n",
    "client_email  --> client email information\n",
    "\n",
    "pulsecounter --> number of pulses\n",
    "\n",
    "num_remain_gas -- > number of gas exchange remain \n",
    "\n",
    "application_sw -- > application software version\n",
    "\n",
    "cam_sw --> cam software version\n",
    "\n"
   ]
  },
  {
   "cell_type": "markdown",
   "metadata": {},
   "source": [
    "## OPEN THE LOGFILE "
   ]
  },
  {
   "cell_type": "code",
   "execution_count": 195,
   "metadata": {},
   "outputs": [],
   "source": [
    "#with this procedure i am opening a dialog box in order to grab the path of the file\n",
    "from tkinter.filedialog import askopenfilename\n",
    "import os"
   ]
  },
  {
   "cell_type": "code",
   "execution_count": 241,
   "metadata": {},
   "outputs": [],
   "source": [
    "#this library will help with paths beetween windows mac and linux paths\n",
    "from pathlib import Path"
   ]
  },
  {
   "cell_type": "code",
   "execution_count": 243,
   "metadata": {},
   "outputs": [],
   "source": [
    "#this will be the FULL PATH of the zip file\n",
    "filename_from_dialogbox = askopenfilename(filetypes =[(\"todos\", \"*.*\")])"
   ]
  },
  {
   "cell_type": "code",
   "execution_count": 245,
   "metadata": {},
   "outputs": [
    {
     "data": {
      "text/plain": [
       "'/home/andres/Documents/python_projects/schwind_logfile_reader/Log_R858_2020-08-04.zip'"
      ]
     },
     "execution_count": 245,
     "metadata": {},
     "output_type": "execute_result"
    }
   ],
   "source": [
    "filename_from_dialogbox"
   ]
  },
  {
   "cell_type": "code",
   "execution_count": 246,
   "metadata": {},
   "outputs": [],
   "source": [
    "path_file = Path(filename_from_dialogbox)"
   ]
  },
  {
   "cell_type": "code",
   "execution_count": 250,
   "metadata": {},
   "outputs": [],
   "source": [
    "#I \n",
    "logfilename = path_file.stem"
   ]
  },
  {
   "cell_type": "code",
   "execution_count": null,
   "metadata": {},
   "outputs": [],
   "source": [
    "#trabajar en esto luego!!!! Aug 17 2020"
   ]
  },
  {
   "cell_type": "code",
   "execution_count": null,
   "metadata": {},
   "outputs": [],
   "source": []
  },
  {
   "cell_type": "code",
   "execution_count": 251,
   "metadata": {},
   "outputs": [
    {
     "data": {
      "text/plain": [
       "'Log_R858_2020-08-04'"
      ]
     },
     "execution_count": 251,
     "metadata": {},
     "output_type": "execute_result"
    }
   ],
   "source": [
    "logfilename"
   ]
  },
  {
   "cell_type": "markdown",
   "metadata": {},
   "source": [
    "## Extract all files from logfile zip file"
   ]
  },
  {
   "cell_type": "code",
   "execution_count": 202,
   "metadata": {},
   "outputs": [],
   "source": [
    "#Import libraries to unzip the logfile\n",
    "from zipfile import ZipFile"
   ]
  },
  {
   "cell_type": "code",
   "execution_count": 203,
   "metadata": {},
   "outputs": [],
   "source": [
    "#the zip file will be in ZIP variable\n",
    "zip=ZipFile(base)"
   ]
  },
  {
   "cell_type": "code",
   "execution_count": 204,
   "metadata": {},
   "outputs": [],
   "source": [
    "#UNZIP the file\n",
    "zip.extractall(path=logfilename)"
   ]
  },
  {
   "cell_type": "code",
   "execution_count": 205,
   "metadata": {},
   "outputs": [],
   "source": [
    "zip.close()"
   ]
  },
  {
   "cell_type": "markdown",
   "metadata": {},
   "source": [
    "## Read all the files unziped"
   ]
  },
  {
   "cell_type": "code",
   "execution_count": 206,
   "metadata": {},
   "outputs": [],
   "source": [
    "import os\n",
    "import pandas as pd"
   ]
  },
  {
   "cell_type": "code",
   "execution_count": 207,
   "metadata": {},
   "outputs": [],
   "source": [
    "files = os.listdir(logfilename)"
   ]
  },
  {
   "cell_type": "code",
   "execution_count": 208,
   "metadata": {},
   "outputs": [
    {
     "data": {
      "text/plain": [
       "['2020-06-12__10-29-16.log',\n",
       " 'SysConfigInfo',\n",
       " 'ServiceActivity.log',\n",
       " 'laser.slb',\n",
       " 'CAMerrorLog.dat',\n",
       " '2020-07-30__12-39-15.log',\n",
       " '2020-04-30__11-55-09.log',\n",
       " 'ssw.slb',\n",
       " '2020-07-17__08-07-06.log',\n",
       " 'Mcu_boottime',\n",
       " 'laser.cfg',\n",
       " '2020-05-09__09-59-10.log',\n",
       " 'Mcu_logs',\n",
       " '2020-08-04__08-41-59.log',\n",
       " 'Hdspace',\n",
       " '2020-07-03__11-11-03.log',\n",
       " 'Nozzle',\n",
       " 'SpotAtLastDriftTest.bmp',\n",
       " '2020-06-26__08-09-51.log',\n",
       " 'Users',\n",
       " 'CrdStatus',\n",
       " 'system.sys',\n",
       " '2020-05-28__12-10-50.log',\n",
       " 'confs']"
      ]
     },
     "execution_count": 208,
     "metadata": {},
     "output_type": "execute_result"
    }
   ],
   "source": [
    "#list of all files in the directory logfilename\n",
    "files"
   ]
  },
  {
   "cell_type": "code",
   "execution_count": null,
   "metadata": {},
   "outputs": [],
   "source": []
  },
  {
   "cell_type": "markdown",
   "metadata": {},
   "source": [
    "## Grabing the file name from the original logfile \n",
    "in this procedure we need to find the file.LOG with the right date.\n",
    "the right day is always in the ORIGINAL name of the ZIP file taken from the Amaris System.\n",
    "so, we are taking the number and we will find the file in the unziped list"
   ]
  },
  {
   "cell_type": "code",
   "execution_count": 209,
   "metadata": {},
   "outputs": [],
   "source": [
    "# Import Regular expressions to find the pathern of the DATE\n",
    "import re"
   ]
  },
  {
   "cell_type": "code",
   "execution_count": 210,
   "metadata": {},
   "outputs": [],
   "source": [
    "#re.search(\"([0-9]{2}\\-[0-9]{2}\\-[0-9]{4})\", fileName)\n",
    "date_number = re.search(\"([0-9]{4}\\-[0-9]{2}\\-[0-9]{2})\", logfilename)"
   ]
  },
  {
   "cell_type": "code",
   "execution_count": 211,
   "metadata": {},
   "outputs": [
    {
     "data": {
      "text/plain": [
       "'2020-08-04'"
      ]
     },
     "execution_count": 211,
     "metadata": {},
     "output_type": "execute_result"
    }
   ],
   "source": [
    "date_number[0]"
   ]
  },
  {
   "cell_type": "code",
   "execution_count": 212,
   "metadata": {},
   "outputs": [],
   "source": [
    "# In this code i am looking in the list of unziped files and finding the right file\n",
    "# with the LOG extension\n",
    "file_to_open = next((s for s in files if date_number[0] in s),None)"
   ]
  },
  {
   "cell_type": "code",
   "execution_count": 213,
   "metadata": {},
   "outputs": [
    {
     "data": {
      "text/plain": [
       "'2020-08-04__08-41-59.log'"
      ]
     },
     "execution_count": 213,
     "metadata": {},
     "output_type": "execute_result"
    }
   ],
   "source": [
    "file_to_open"
   ]
  },
  {
   "cell_type": "code",
   "execution_count": 229,
   "metadata": {},
   "outputs": [],
   "source": [
    "path_file_to_open = logfilename + \"/\" + file_to_open"
   ]
  },
  {
   "cell_type": "code",
   "execution_count": 214,
   "metadata": {},
   "outputs": [],
   "source": [
    "#converting date_number to DATETIME dataframe\n",
    "datenumber= pd.to_datetime(date_number[0])"
   ]
  },
  {
   "cell_type": "markdown",
   "metadata": {},
   "source": [
    "## Opening the file to analyse in PANDAS"
   ]
  },
  {
   "cell_type": "code",
   "execution_count": 231,
   "metadata": {},
   "outputs": [],
   "source": [
    "import csv"
   ]
  },
  {
   "cell_type": "code",
   "execution_count": 232,
   "metadata": {},
   "outputs": [],
   "source": [
    "#logfile_csv = pd.read_csv(file_to_open, delimiter=\"|\", header=0 , names =[1,2,3,4,5,6], encoding=\"ISO-8859-1\")\n",
    "#logfile_csv = pd.read_csv(file_to_open, delimiter=\"|\", names = [1,2,3,4,5,6], encoding=\"ISO-8859-1\")\n",
    "df = pd.read_csv(path_file_to_open, delimiter=\"|\", names = [\"date\",2,3,4,5,6], encoding=\"ISO-8859-1\")"
   ]
  },
  {
   "cell_type": "code",
   "execution_count": 233,
   "metadata": {
    "scrolled": true
   },
   "outputs": [],
   "source": [
    "df.drop(df.head(1).index, inplace=True)"
   ]
  },
  {
   "cell_type": "code",
   "execution_count": 234,
   "metadata": {},
   "outputs": [],
   "source": [
    "df.drop(df.tail(1).index, inplace=True)"
   ]
  },
  {
   "cell_type": "code",
   "execution_count": 235,
   "metadata": {},
   "outputs": [
    {
     "data": {
      "text/html": [
       "<div>\n",
       "<style scoped>\n",
       "    .dataframe tbody tr th:only-of-type {\n",
       "        vertical-align: middle;\n",
       "    }\n",
       "\n",
       "    .dataframe tbody tr th {\n",
       "        vertical-align: top;\n",
       "    }\n",
       "\n",
       "    .dataframe thead th {\n",
       "        text-align: right;\n",
       "    }\n",
       "</style>\n",
       "<table border=\"1\" class=\"dataframe\">\n",
       "  <thead>\n",
       "    <tr style=\"text-align: right;\">\n",
       "      <th></th>\n",
       "      <th>date</th>\n",
       "      <th>2</th>\n",
       "      <th>3</th>\n",
       "      <th>4</th>\n",
       "      <th>5</th>\n",
       "      <th>6</th>\n",
       "    </tr>\n",
       "  </thead>\n",
       "  <tbody>\n",
       "    <tr>\n",
       "      <td>1</td>\n",
       "      <td>2020-07-30__12-39-29.609</td>\n",
       "      <td></td>\n",
       "      <td></td>\n",
       "      <td>APP</td>\n",
       "      <td>START=APP-SESSION============================...</td>\n",
       "      <td>NaN</td>\n",
       "    </tr>\n",
       "    <tr>\n",
       "      <td>2</td>\n",
       "      <td>2020-07-30__12-46-22.906</td>\n",
       "      <td>2102-021</td>\n",
       "      <td></td>\n",
       "      <td>APP</td>\n",
       "      <td>LOGIN Application Software   Version:6.1.2117...</td>\n",
       "      <td>NaN</td>\n",
       "    </tr>\n",
       "    <tr>\n",
       "      <td>3</td>\n",
       "      <td>2020-07-30__12-46-22.906</td>\n",
       "      <td></td>\n",
       "      <td></td>\n",
       "      <td>APP</td>\n",
       "      <td>LaserHz TrtLF,TrtHF,FtLF,FtHF: 1050,900,900,900</td>\n",
       "      <td>NaN</td>\n",
       "    </tr>\n",
       "    <tr>\n",
       "      <td>4</td>\n",
       "      <td>2020-07-30__12-46-25.671</td>\n",
       "      <td></td>\n",
       "      <td></td>\n",
       "      <td>APP</td>\n",
       "      <td>MCU is already online and ready (idle) ...</td>\n",
       "      <td>NaN</td>\n",
       "    </tr>\n",
       "    <tr>\n",
       "      <td>5</td>\n",
       "      <td>2020-07-30__12-39-02.021</td>\n",
       "      <td>101-144</td>\n",
       "      <td>Warning</td>\n",
       "      <td>MCU  LMain</td>\n",
       "      <td>Amaris MCU program is starting ......</td>\n",
       "      <td>NaN</td>\n",
       "    </tr>\n",
       "    <tr>\n",
       "      <td>...</td>\n",
       "      <td>...</td>\n",
       "      <td>...</td>\n",
       "      <td>...</td>\n",
       "      <td>...</td>\n",
       "      <td>...</td>\n",
       "      <td>...</td>\n",
       "    </tr>\n",
       "    <tr>\n",
       "      <td>12122</td>\n",
       "      <td>2020-08-04__08-41-12.437</td>\n",
       "      <td>PreciET</td>\n",
       "      <td></td>\n",
       "      <td>APP</td>\n",
       "      <td>2020.08.03</td>\n",
       "      <td>22:15:56</td>\n",
       "    </tr>\n",
       "    <tr>\n",
       "      <td>12123</td>\n",
       "      <td>2020-08-04__08-41-12.437</td>\n",
       "      <td>PreciET</td>\n",
       "      <td></td>\n",
       "      <td>APP</td>\n",
       "      <td>2020.08.03</td>\n",
       "      <td>22:15:56</td>\n",
       "    </tr>\n",
       "    <tr>\n",
       "      <td>12124</td>\n",
       "      <td>2020-08-04__08-41-12.437</td>\n",
       "      <td>PreciET</td>\n",
       "      <td></td>\n",
       "      <td>APP</td>\n",
       "      <td>2020.08.03</td>\n",
       "      <td>22:15:57</td>\n",
       "    </tr>\n",
       "    <tr>\n",
       "      <td>12125</td>\n",
       "      <td>2020-08-04__08-41-12.437</td>\n",
       "      <td>PreciET</td>\n",
       "      <td></td>\n",
       "      <td>APP</td>\n",
       "      <td>2020.08.03</td>\n",
       "      <td>22:15:57</td>\n",
       "    </tr>\n",
       "    <tr>\n",
       "      <td>12126</td>\n",
       "      <td>2020-08-04__08-41-12.453</td>\n",
       "      <td>PreciET</td>\n",
       "      <td></td>\n",
       "      <td>APP</td>\n",
       "      <td>2020.08.03</td>\n",
       "      <td>22:15:57</td>\n",
       "    </tr>\n",
       "  </tbody>\n",
       "</table>\n",
       "<p>12126 rows × 6 columns</p>\n",
       "</div>"
      ],
      "text/plain": [
       "                            date         2         3               4  \\\n",
       "1      2020-07-30__12-39-29.609                        APP             \n",
       "2      2020-07-30__12-46-22.906   2102-021             APP             \n",
       "3      2020-07-30__12-46-22.906                        APP             \n",
       "4      2020-07-30__12-46-25.671                        APP             \n",
       "5      2020-07-30__12-39-02.021    101-144   Warning   MCU  LMain      \n",
       "...                          ...       ...       ...             ...   \n",
       "12122  2020-08-04__08-41-12.437    PreciET             APP             \n",
       "12123  2020-08-04__08-41-12.437    PreciET             APP             \n",
       "12124  2020-08-04__08-41-12.437    PreciET             APP             \n",
       "12125  2020-08-04__08-41-12.437    PreciET             APP             \n",
       "12126  2020-08-04__08-41-12.453    PreciET             APP             \n",
       "\n",
       "                                                       5         6  \n",
       "1       START=APP-SESSION============================...       NaN  \n",
       "2       LOGIN Application Software   Version:6.1.2117...       NaN  \n",
       "3        LaserHz TrtLF,TrtHF,FtLF,FtHF: 1050,900,900,900       NaN  \n",
       "4             MCU is already online and ready (idle) ...       NaN  \n",
       "5                  Amaris MCU program is starting ......       NaN  \n",
       "...                                                  ...       ...  \n",
       "12122                                         2020.08.03  22:15:56  \n",
       "12123                                         2020.08.03  22:15:56  \n",
       "12124                                         2020.08.03  22:15:57  \n",
       "12125                                         2020.08.03  22:15:57  \n",
       "12126                                         2020.08.03  22:15:57  \n",
       "\n",
       "[12126 rows x 6 columns]"
      ]
     },
     "execution_count": 235,
     "metadata": {},
     "output_type": "execute_result"
    }
   ],
   "source": [
    "df"
   ]
  },
  {
   "cell_type": "code",
   "execution_count": 236,
   "metadata": {},
   "outputs": [],
   "source": [
    "#converting date colum in DATETIME data type\n",
    "df[\"date\"]=pd.to_datetime(df.date, format= \"%Y-%m-%d__%H-%M-%S.%f \")"
   ]
  },
  {
   "cell_type": "markdown",
   "metadata": {},
   "source": [
    "## LAST FLUENCE "
   ]
  },
  {
   "cell_type": "code",
   "execution_count": null,
   "metadata": {},
   "outputs": [],
   "source": [
    "#in case the fluence was not at the same time of the logfile\n",
    "all_fluence = df.loc[(df[2]==\"2116-042\")]"
   ]
  },
  {
   "cell_type": "code",
   "execution_count": null,
   "metadata": {},
   "outputs": [],
   "source": []
  },
  {
   "cell_type": "code",
   "execution_count": null,
   "metadata": {},
   "outputs": [],
   "source": []
  },
  {
   "cell_type": "code",
   "execution_count": null,
   "metadata": {},
   "outputs": [],
   "source": []
  },
  {
   "cell_type": "code",
   "execution_count": null,
   "metadata": {},
   "outputs": [],
   "source": []
  },
  {
   "cell_type": "code",
   "execution_count": 217,
   "metadata": {},
   "outputs": [],
   "source": [
    "#code for fluence is 2116-042, so I looked the rows with this value on column 2\n",
    "#df.loc[df['column_name'] == some_value]\n",
    "#date_number is the date of the current logfile\n",
    "\n",
    "#last_fluence = df.loc[(df[2]==\"2116-042\")&(df[\"date\"]>=date_number[0])]\n",
    "#last_fluence = df.loc[(df[2]==\"2116-042\")&(df[\"date\"]>=datenumber)]\n",
    "\n",
    "#in case the fluence was not at the same time of the logfile\n",
    "last_fluence = df.loc[(df[2]==\"2116-042\")]"
   ]
  },
  {
   "cell_type": "code",
   "execution_count": 218,
   "metadata": {},
   "outputs": [
    {
     "data": {
      "text/html": [
       "<div>\n",
       "<style scoped>\n",
       "    .dataframe tbody tr th:only-of-type {\n",
       "        vertical-align: middle;\n",
       "    }\n",
       "\n",
       "    .dataframe tbody tr th {\n",
       "        vertical-align: top;\n",
       "    }\n",
       "\n",
       "    .dataframe thead th {\n",
       "        text-align: right;\n",
       "    }\n",
       "</style>\n",
       "<table border=\"1\" class=\"dataframe\">\n",
       "  <thead>\n",
       "    <tr style=\"text-align: right;\">\n",
       "      <th></th>\n",
       "      <th>date</th>\n",
       "      <th>2</th>\n",
       "      <th>3</th>\n",
       "      <th>4</th>\n",
       "      <th>5</th>\n",
       "      <th>6</th>\n",
       "    </tr>\n",
       "  </thead>\n",
       "  <tbody>\n",
       "    <tr>\n",
       "      <td>65</td>\n",
       "      <td>2020-06-19 12:32:58.546</td>\n",
       "      <td>2116-042</td>\n",
       "      <td></td>\n",
       "      <td>APP</td>\n",
       "      <td>Fluence values: High Fluence: 583   Low Fluen...</td>\n",
       "      <td>NaN</td>\n",
       "    </tr>\n",
       "    <tr>\n",
       "      <td>625</td>\n",
       "      <td>2020-06-19 14:17:13.937</td>\n",
       "      <td>2116-042</td>\n",
       "      <td></td>\n",
       "      <td>APP</td>\n",
       "      <td>Fluence values: High Fluence: 612   Low Fluen...</td>\n",
       "      <td>NaN</td>\n",
       "    </tr>\n",
       "    <tr>\n",
       "      <td>1158</td>\n",
       "      <td>2020-06-26 08:36:45.953</td>\n",
       "      <td>2116-042</td>\n",
       "      <td></td>\n",
       "      <td>APP</td>\n",
       "      <td>Fluence values: High Fluence: 614   Low Fluen...</td>\n",
       "      <td>NaN</td>\n",
       "    </tr>\n",
       "    <tr>\n",
       "      <td>1521</td>\n",
       "      <td>2020-06-26 10:38:08.750</td>\n",
       "      <td>2116-042</td>\n",
       "      <td></td>\n",
       "      <td>APP</td>\n",
       "      <td>Fluence values: High Fluence: 612   Low Fluen...</td>\n",
       "      <td>NaN</td>\n",
       "    </tr>\n",
       "    <tr>\n",
       "      <td>1693</td>\n",
       "      <td>2020-06-26 12:39:52.765</td>\n",
       "      <td>2116-042</td>\n",
       "      <td></td>\n",
       "      <td>APP</td>\n",
       "      <td>Fluence values: High Fluence: 608   Low Fluen...</td>\n",
       "      <td>NaN</td>\n",
       "    </tr>\n",
       "    <tr>\n",
       "      <td>2190</td>\n",
       "      <td>2020-06-26 14:49:01.296</td>\n",
       "      <td>2116-042</td>\n",
       "      <td></td>\n",
       "      <td>APP</td>\n",
       "      <td>Fluence values: High Fluence: 602   Low Fluen...</td>\n",
       "      <td>NaN</td>\n",
       "    </tr>\n",
       "    <tr>\n",
       "      <td>2477</td>\n",
       "      <td>2020-07-02 10:55:15.125</td>\n",
       "      <td>2116-042</td>\n",
       "      <td></td>\n",
       "      <td>APP</td>\n",
       "      <td>Fluence values: High Fluence: 568   Low Fluen...</td>\n",
       "      <td>NaN</td>\n",
       "    </tr>\n",
       "    <tr>\n",
       "      <td>2705</td>\n",
       "      <td>2020-07-02 12:57:29.968</td>\n",
       "      <td>2116-042</td>\n",
       "      <td></td>\n",
       "      <td>APP</td>\n",
       "      <td>Fluence values: High Fluence: 613   Low Fluen...</td>\n",
       "      <td>NaN</td>\n",
       "    </tr>\n",
       "    <tr>\n",
       "      <td>3113</td>\n",
       "      <td>2020-07-02 15:00:59.859</td>\n",
       "      <td>2116-042</td>\n",
       "      <td></td>\n",
       "      <td>APP</td>\n",
       "      <td>Fluence values: High Fluence: 601   Low Fluen...</td>\n",
       "      <td>NaN</td>\n",
       "    </tr>\n",
       "    <tr>\n",
       "      <td>3576</td>\n",
       "      <td>2020-07-03 07:38:04.875</td>\n",
       "      <td>2116-042</td>\n",
       "      <td></td>\n",
       "      <td>APP</td>\n",
       "      <td>Fluence values: High Fluence: 582   Low Fluen...</td>\n",
       "      <td>NaN</td>\n",
       "    </tr>\n",
       "    <tr>\n",
       "      <td>3607</td>\n",
       "      <td>2020-07-03 09:24:08.687</td>\n",
       "      <td>2116-042</td>\n",
       "      <td></td>\n",
       "      <td>APP</td>\n",
       "      <td>Fluence values: High Fluence: 617   Low Fluen...</td>\n",
       "      <td>NaN</td>\n",
       "    </tr>\n",
       "    <tr>\n",
       "      <td>4096</td>\n",
       "      <td>2020-07-03 11:23:35.390</td>\n",
       "      <td>2116-042</td>\n",
       "      <td></td>\n",
       "      <td>APP</td>\n",
       "      <td>Fluence values: High Fluence: 616   Low Fluen...</td>\n",
       "      <td>NaN</td>\n",
       "    </tr>\n",
       "    <tr>\n",
       "      <td>4402</td>\n",
       "      <td>2020-07-03 13:17:14.375</td>\n",
       "      <td>2116-042</td>\n",
       "      <td></td>\n",
       "      <td>APP</td>\n",
       "      <td>Fluence values: High Fluence: 613   Low Fluen...</td>\n",
       "      <td>NaN</td>\n",
       "    </tr>\n",
       "    <tr>\n",
       "      <td>4866</td>\n",
       "      <td>2020-07-10 08:13:29.125</td>\n",
       "      <td>2116-042</td>\n",
       "      <td></td>\n",
       "      <td>APP</td>\n",
       "      <td>Fluence values: High Fluence: 582   Low Fluen...</td>\n",
       "      <td>NaN</td>\n",
       "    </tr>\n",
       "    <tr>\n",
       "      <td>5205</td>\n",
       "      <td>2020-07-10 09:56:54.953</td>\n",
       "      <td>2116-042</td>\n",
       "      <td></td>\n",
       "      <td>APP</td>\n",
       "      <td>Fluence values: High Fluence: 607   Low Fluen...</td>\n",
       "      <td>NaN</td>\n",
       "    </tr>\n",
       "    <tr>\n",
       "      <td>5703</td>\n",
       "      <td>2020-07-10 12:38:28.484</td>\n",
       "      <td>2116-042</td>\n",
       "      <td></td>\n",
       "      <td>APP</td>\n",
       "      <td>Fluence values: High Fluence: 611   Low Fluen...</td>\n",
       "      <td>NaN</td>\n",
       "    </tr>\n",
       "    <tr>\n",
       "      <td>6004</td>\n",
       "      <td>2020-07-10 14:21:00.609</td>\n",
       "      <td>2116-042</td>\n",
       "      <td></td>\n",
       "      <td>APP</td>\n",
       "      <td>Fluence values: High Fluence: 606   Low Fluen...</td>\n",
       "      <td>NaN</td>\n",
       "    </tr>\n",
       "    <tr>\n",
       "      <td>6279</td>\n",
       "      <td>2020-07-16 12:41:41.687</td>\n",
       "      <td>2116-042</td>\n",
       "      <td></td>\n",
       "      <td>APP</td>\n",
       "      <td>Fluence values: High Fluence: 576   Low Fluen...</td>\n",
       "      <td>NaN</td>\n",
       "    </tr>\n",
       "    <tr>\n",
       "      <td>6468</td>\n",
       "      <td>2020-07-16 13:53:44.906</td>\n",
       "      <td>2116-042</td>\n",
       "      <td></td>\n",
       "      <td>APP</td>\n",
       "      <td>Fluence values: High Fluence: 613   Low Fluen...</td>\n",
       "      <td>NaN</td>\n",
       "    </tr>\n",
       "    <tr>\n",
       "      <td>6733</td>\n",
       "      <td>2020-07-16 15:54:56.515</td>\n",
       "      <td>2116-042</td>\n",
       "      <td></td>\n",
       "      <td>APP</td>\n",
       "      <td>Fluence values: High Fluence: 607   Low Fluen...</td>\n",
       "      <td>NaN</td>\n",
       "    </tr>\n",
       "    <tr>\n",
       "      <td>7177</td>\n",
       "      <td>2020-07-17 12:03:13.109</td>\n",
       "      <td>2116-042</td>\n",
       "      <td></td>\n",
       "      <td>APP</td>\n",
       "      <td>Fluence values: High Fluence: 604   Low Fluen...</td>\n",
       "      <td>NaN</td>\n",
       "    </tr>\n",
       "    <tr>\n",
       "      <td>7753</td>\n",
       "      <td>2020-07-24 08:22:48.765</td>\n",
       "      <td>2116-042</td>\n",
       "      <td></td>\n",
       "      <td>APP</td>\n",
       "      <td>Fluence values: High Fluence: 614   Low Fluen...</td>\n",
       "      <td>NaN</td>\n",
       "    </tr>\n",
       "    <tr>\n",
       "      <td>8155</td>\n",
       "      <td>2020-07-24 10:22:21.140</td>\n",
       "      <td>2116-042</td>\n",
       "      <td></td>\n",
       "      <td>APP</td>\n",
       "      <td>Fluence values: High Fluence: 606   Low Fluen...</td>\n",
       "      <td>NaN</td>\n",
       "    </tr>\n",
       "    <tr>\n",
       "      <td>8461</td>\n",
       "      <td>2020-07-24 12:12:30.812</td>\n",
       "      <td>2116-042</td>\n",
       "      <td></td>\n",
       "      <td>APP</td>\n",
       "      <td>Fluence values: High Fluence: 601   Low Fluen...</td>\n",
       "      <td>NaN</td>\n",
       "    </tr>\n",
       "    <tr>\n",
       "      <td>8879</td>\n",
       "      <td>2020-07-24 14:16:37.515</td>\n",
       "      <td>2116-042</td>\n",
       "      <td></td>\n",
       "      <td>APP</td>\n",
       "      <td>Fluence values: High Fluence: 605   Low Fluen...</td>\n",
       "      <td>NaN</td>\n",
       "    </tr>\n",
       "    <tr>\n",
       "      <td>9373</td>\n",
       "      <td>2020-07-30 07:47:09.062</td>\n",
       "      <td>2116-042</td>\n",
       "      <td></td>\n",
       "      <td>APP</td>\n",
       "      <td>Fluence values: High Fluence: 631   Low Fluen...</td>\n",
       "      <td>NaN</td>\n",
       "    </tr>\n",
       "    <tr>\n",
       "      <td>9741</td>\n",
       "      <td>2020-07-31 07:42:38.468</td>\n",
       "      <td>2116-042</td>\n",
       "      <td></td>\n",
       "      <td>APP</td>\n",
       "      <td>Fluence values: High Fluence: 620   Low Fluen...</td>\n",
       "      <td>NaN</td>\n",
       "    </tr>\n",
       "    <tr>\n",
       "      <td>10157</td>\n",
       "      <td>2020-07-31 09:26:32.453</td>\n",
       "      <td>2116-042</td>\n",
       "      <td></td>\n",
       "      <td>APP</td>\n",
       "      <td>Fluence values: High Fluence: 613   Low Fluen...</td>\n",
       "      <td>NaN</td>\n",
       "    </tr>\n",
       "    <tr>\n",
       "      <td>10777</td>\n",
       "      <td>2020-07-31 12:27:51.406</td>\n",
       "      <td>2116-042</td>\n",
       "      <td></td>\n",
       "      <td>APP</td>\n",
       "      <td>Fluence values: High Fluence: 613   Low Fluen...</td>\n",
       "      <td>NaN</td>\n",
       "    </tr>\n",
       "    <tr>\n",
       "      <td>11241</td>\n",
       "      <td>2020-07-31 14:05:30.343</td>\n",
       "      <td>2116-042</td>\n",
       "      <td></td>\n",
       "      <td>APP</td>\n",
       "      <td>Fluence values: High Fluence: 611   Low Fluen...</td>\n",
       "      <td>NaN</td>\n",
       "    </tr>\n",
       "    <tr>\n",
       "      <td>11589</td>\n",
       "      <td>2020-08-07 08:39:31.937</td>\n",
       "      <td>2116-042</td>\n",
       "      <td></td>\n",
       "      <td>APP</td>\n",
       "      <td>Fluence values: High Fluence: 632   Low Fluen...</td>\n",
       "      <td>NaN</td>\n",
       "    </tr>\n",
       "  </tbody>\n",
       "</table>\n",
       "</div>"
      ],
      "text/plain": [
       "                         date         2         3               4  \\\n",
       "65    2020-06-19 12:32:58.546  2116-042             APP             \n",
       "625   2020-06-19 14:17:13.937  2116-042             APP             \n",
       "1158  2020-06-26 08:36:45.953  2116-042             APP             \n",
       "1521  2020-06-26 10:38:08.750  2116-042             APP             \n",
       "1693  2020-06-26 12:39:52.765  2116-042             APP             \n",
       "2190  2020-06-26 14:49:01.296  2116-042             APP             \n",
       "2477  2020-07-02 10:55:15.125  2116-042             APP             \n",
       "2705  2020-07-02 12:57:29.968  2116-042             APP             \n",
       "3113  2020-07-02 15:00:59.859  2116-042             APP             \n",
       "3576  2020-07-03 07:38:04.875  2116-042             APP             \n",
       "3607  2020-07-03 09:24:08.687  2116-042             APP             \n",
       "4096  2020-07-03 11:23:35.390  2116-042             APP             \n",
       "4402  2020-07-03 13:17:14.375  2116-042             APP             \n",
       "4866  2020-07-10 08:13:29.125  2116-042             APP             \n",
       "5205  2020-07-10 09:56:54.953  2116-042             APP             \n",
       "5703  2020-07-10 12:38:28.484  2116-042             APP             \n",
       "6004  2020-07-10 14:21:00.609  2116-042             APP             \n",
       "6279  2020-07-16 12:41:41.687  2116-042             APP             \n",
       "6468  2020-07-16 13:53:44.906  2116-042             APP             \n",
       "6733  2020-07-16 15:54:56.515  2116-042             APP             \n",
       "7177  2020-07-17 12:03:13.109  2116-042             APP             \n",
       "7753  2020-07-24 08:22:48.765  2116-042             APP             \n",
       "8155  2020-07-24 10:22:21.140  2116-042             APP             \n",
       "8461  2020-07-24 12:12:30.812  2116-042             APP             \n",
       "8879  2020-07-24 14:16:37.515  2116-042             APP             \n",
       "9373  2020-07-30 07:47:09.062  2116-042             APP             \n",
       "9741  2020-07-31 07:42:38.468  2116-042             APP             \n",
       "10157 2020-07-31 09:26:32.453  2116-042             APP             \n",
       "10777 2020-07-31 12:27:51.406  2116-042             APP             \n",
       "11241 2020-07-31 14:05:30.343  2116-042             APP             \n",
       "11589 2020-08-07 08:39:31.937  2116-042             APP             \n",
       "\n",
       "                                                       5    6  \n",
       "65      Fluence values: High Fluence: 583   Low Fluen...  NaN  \n",
       "625     Fluence values: High Fluence: 612   Low Fluen...  NaN  \n",
       "1158    Fluence values: High Fluence: 614   Low Fluen...  NaN  \n",
       "1521    Fluence values: High Fluence: 612   Low Fluen...  NaN  \n",
       "1693    Fluence values: High Fluence: 608   Low Fluen...  NaN  \n",
       "2190    Fluence values: High Fluence: 602   Low Fluen...  NaN  \n",
       "2477    Fluence values: High Fluence: 568   Low Fluen...  NaN  \n",
       "2705    Fluence values: High Fluence: 613   Low Fluen...  NaN  \n",
       "3113    Fluence values: High Fluence: 601   Low Fluen...  NaN  \n",
       "3576    Fluence values: High Fluence: 582   Low Fluen...  NaN  \n",
       "3607    Fluence values: High Fluence: 617   Low Fluen...  NaN  \n",
       "4096    Fluence values: High Fluence: 616   Low Fluen...  NaN  \n",
       "4402    Fluence values: High Fluence: 613   Low Fluen...  NaN  \n",
       "4866    Fluence values: High Fluence: 582   Low Fluen...  NaN  \n",
       "5205    Fluence values: High Fluence: 607   Low Fluen...  NaN  \n",
       "5703    Fluence values: High Fluence: 611   Low Fluen...  NaN  \n",
       "6004    Fluence values: High Fluence: 606   Low Fluen...  NaN  \n",
       "6279    Fluence values: High Fluence: 576   Low Fluen...  NaN  \n",
       "6468    Fluence values: High Fluence: 613   Low Fluen...  NaN  \n",
       "6733    Fluence values: High Fluence: 607   Low Fluen...  NaN  \n",
       "7177    Fluence values: High Fluence: 604   Low Fluen...  NaN  \n",
       "7753    Fluence values: High Fluence: 614   Low Fluen...  NaN  \n",
       "8155    Fluence values: High Fluence: 606   Low Fluen...  NaN  \n",
       "8461    Fluence values: High Fluence: 601   Low Fluen...  NaN  \n",
       "8879    Fluence values: High Fluence: 605   Low Fluen...  NaN  \n",
       "9373    Fluence values: High Fluence: 631   Low Fluen...  NaN  \n",
       "9741    Fluence values: High Fluence: 620   Low Fluen...  NaN  \n",
       "10157   Fluence values: High Fluence: 613   Low Fluen...  NaN  \n",
       "10777   Fluence values: High Fluence: 613   Low Fluen...  NaN  \n",
       "11241   Fluence values: High Fluence: 611   Low Fluen...  NaN  \n",
       "11589   Fluence values: High Fluence: 632   Low Fluen...  NaN  "
      ]
     },
     "execution_count": 218,
     "metadata": {},
     "output_type": "execute_result"
    }
   ],
   "source": [
    "last_fluence"
   ]
  },
  {
   "cell_type": "code",
   "execution_count": 219,
   "metadata": {},
   "outputs": [
    {
     "data": {
      "text/plain": [
       "65        Fluence values: High Fluence: 583   Low Fluen...\n",
       "625       Fluence values: High Fluence: 612   Low Fluen...\n",
       "1158      Fluence values: High Fluence: 614   Low Fluen...\n",
       "1521      Fluence values: High Fluence: 612   Low Fluen...\n",
       "1693      Fluence values: High Fluence: 608   Low Fluen...\n",
       "2190      Fluence values: High Fluence: 602   Low Fluen...\n",
       "2477      Fluence values: High Fluence: 568   Low Fluen...\n",
       "2705      Fluence values: High Fluence: 613   Low Fluen...\n",
       "3113      Fluence values: High Fluence: 601   Low Fluen...\n",
       "3576      Fluence values: High Fluence: 582   Low Fluen...\n",
       "3607      Fluence values: High Fluence: 617   Low Fluen...\n",
       "4096      Fluence values: High Fluence: 616   Low Fluen...\n",
       "4402      Fluence values: High Fluence: 613   Low Fluen...\n",
       "4866      Fluence values: High Fluence: 582   Low Fluen...\n",
       "5205      Fluence values: High Fluence: 607   Low Fluen...\n",
       "5703      Fluence values: High Fluence: 611   Low Fluen...\n",
       "6004      Fluence values: High Fluence: 606   Low Fluen...\n",
       "6279      Fluence values: High Fluence: 576   Low Fluen...\n",
       "6468      Fluence values: High Fluence: 613   Low Fluen...\n",
       "6733      Fluence values: High Fluence: 607   Low Fluen...\n",
       "7177      Fluence values: High Fluence: 604   Low Fluen...\n",
       "7753      Fluence values: High Fluence: 614   Low Fluen...\n",
       "8155      Fluence values: High Fluence: 606   Low Fluen...\n",
       "8461      Fluence values: High Fluence: 601   Low Fluen...\n",
       "8879      Fluence values: High Fluence: 605   Low Fluen...\n",
       "9373      Fluence values: High Fluence: 631   Low Fluen...\n",
       "9741      Fluence values: High Fluence: 620   Low Fluen...\n",
       "10157     Fluence values: High Fluence: 613   Low Fluen...\n",
       "10777     Fluence values: High Fluence: 613   Low Fluen...\n",
       "11241     Fluence values: High Fluence: 611   Low Fluen...\n",
       "11589     Fluence values: High Fluence: 632   Low Fluen...\n",
       "Name: 5, dtype: object"
      ]
     },
     "execution_count": 219,
     "metadata": {},
     "output_type": "execute_result"
    }
   ],
   "source": [
    "#the column 5 is where all the fluence values are.\n",
    "last_fluence[5]"
   ]
  },
  {
   "cell_type": "code",
   "execution_count": 220,
   "metadata": {},
   "outputs": [],
   "source": [
    "#In this step, I split the column 5 in order to have every value in its own column\n",
    "values_last_fluence = last_fluence[5].str.split(\"   \", n = 0, expand = True)"
   ]
  },
  {
   "cell_type": "code",
   "execution_count": 221,
   "metadata": {},
   "outputs": [],
   "source": [
    "#removing \"Fluence values: \" string from the column 0 - in order to clean the data\n",
    "#removing strings before the values on each column\n",
    "values_last_fluence[0] = values_last_fluence[0].str.replace(\"Fluence values: High Fluence: \",\"\")\n",
    "values_last_fluence[1] = values_last_fluence[1].str.replace(\"Low Fluence: \",\"\")\n",
    "values_last_fluence[2] = values_last_fluence[2].str.replace(\"HV: \", \"\")\n",
    "values_last_fluence[3] = values_last_fluence[3].str.replace(\"NominalHF: \", \"\")\n",
    "values_last_fluence[4] = values_last_fluence[4].str.replace(\"NominalLF: \", \"\")\n",
    "values_last_fluence[5] = values_last_fluence[5].str.replace(\"E_preset_HI : \", \"\")\n",
    "values_last_fluence[6] = values_last_fluence[6].str.replace(\"E_preset_LO : \", \"\")\n",
    "values_last_fluence[7] = values_last_fluence[7].str.replace(\"HV_min:  \", \"\")\n",
    "values_last_fluence[8] = values_last_fluence[8].str.replace(\"HV_max:  \", \"\")\n",
    "values_last_fluence[9] = values_last_fluence[9].str.replace(\"LaserTemperature: \", \"\")\n"
   ]
  },
  {
   "cell_type": "code",
   "execution_count": 222,
   "metadata": {},
   "outputs": [],
   "source": [
    "#rename the column name\n",
    "values_last_fluence.columns=[\"High Fluence\", \"Low Fluence\", \"HV\", \"Nominal HF\", \"Nominal LF\", \"High Energy\", \"Low Energy\", \"HV min\", \"HV max\", \"Temp\"]"
   ]
  },
  {
   "cell_type": "code",
   "execution_count": 223,
   "metadata": {},
   "outputs": [
    {
     "data": {
      "text/html": [
       "<div>\n",
       "<style scoped>\n",
       "    .dataframe tbody tr th:only-of-type {\n",
       "        vertical-align: middle;\n",
       "    }\n",
       "\n",
       "    .dataframe tbody tr th {\n",
       "        vertical-align: top;\n",
       "    }\n",
       "\n",
       "    .dataframe thead th {\n",
       "        text-align: right;\n",
       "    }\n",
       "</style>\n",
       "<table border=\"1\" class=\"dataframe\">\n",
       "  <thead>\n",
       "    <tr style=\"text-align: right;\">\n",
       "      <th></th>\n",
       "      <th>High Fluence</th>\n",
       "      <th>Low Fluence</th>\n",
       "      <th>HV</th>\n",
       "      <th>Nominal HF</th>\n",
       "      <th>Nominal LF</th>\n",
       "      <th>High Energy</th>\n",
       "      <th>Low Energy</th>\n",
       "      <th>HV min</th>\n",
       "      <th>HV max</th>\n",
       "      <th>Temp</th>\n",
       "    </tr>\n",
       "  </thead>\n",
       "  <tbody>\n",
       "    <tr>\n",
       "      <td>11589</td>\n",
       "      <td>632</td>\n",
       "      <td>545</td>\n",
       "      <td>864</td>\n",
       "      <td>686</td>\n",
       "      <td>572</td>\n",
       "      <td>541</td>\n",
       "      <td>504</td>\n",
       "      <td>734</td>\n",
       "      <td>934</td>\n",
       "      <td>22</td>\n",
       "    </tr>\n",
       "  </tbody>\n",
       "</table>\n",
       "</div>"
      ],
      "text/plain": [
       "      High Fluence Low Fluence   HV Nominal HF Nominal LF High Energy  \\\n",
       "11589          632         545  864        686        572         541   \n",
       "\n",
       "      Low Energy HV min HV max Temp  \n",
       "11589        504    734    934   22  "
      ]
     },
     "execution_count": 223,
     "metadata": {},
     "output_type": "execute_result"
    }
   ],
   "source": [
    "#last fluence value\n",
    "values_last_fluence.tail(1)"
   ]
  },
  {
   "cell_type": "code",
   "execution_count": 224,
   "metadata": {},
   "outputs": [],
   "source": [
    "valueslastfluence=values_last_fluence.tail(1)"
   ]
  },
  {
   "cell_type": "code",
   "execution_count": 225,
   "metadata": {},
   "outputs": [
    {
     "data": {
      "text/plain": [
       "11589    864\n",
       "Name: HV, dtype: object"
      ]
     },
     "execution_count": 225,
     "metadata": {},
     "output_type": "execute_result"
    }
   ],
   "source": [
    "valueslastfluence[\"HV\"]"
   ]
  },
  {
   "cell_type": "code",
   "execution_count": null,
   "metadata": {},
   "outputs": [],
   "source": []
  },
  {
   "cell_type": "code",
   "execution_count": null,
   "metadata": {},
   "outputs": [],
   "source": []
  },
  {
   "cell_type": "markdown",
   "metadata": {},
   "source": [
    "## Gas Exchage"
   ]
  },
  {
   "cell_type": "code",
   "execution_count": 226,
   "metadata": {},
   "outputs": [],
   "source": [
    "#searching for the string \"2115-012\" where gas exchange is located\n",
    "#gas = df.loc[(df[2]==\"2115-012\")&(df[\"date\"]>=date_number[0])]\n",
    "gas = df.loc[(df[2]==\"2115-012\")&(df[\"date\"]>=datenumber)]"
   ]
  },
  {
   "cell_type": "code",
   "execution_count": 227,
   "metadata": {},
   "outputs": [
    {
     "name": "stdout",
     "output_type": "stream",
     "text": [
      "no hay dato\n"
     ]
    }
   ],
   "source": [
    "if (gas.empty):\n",
    "    print(\"no hay dato\")\n",
    "else:\n",
    "    print (gas)"
   ]
  },
  {
   "cell_type": "code",
   "execution_count": null,
   "metadata": {},
   "outputs": [],
   "source": []
  },
  {
   "cell_type": "markdown",
   "metadata": {},
   "source": [
    "# Opening a new data frame from lasercfg file"
   ]
  },
  {
   "cell_type": "markdown",
   "metadata": {},
   "source": [
    "## Getting the laser serial number"
   ]
  },
  {
   "cell_type": "code",
   "execution_count": 237,
   "metadata": {},
   "outputs": [],
   "source": [
    "# openning new file laser.cfg and transforming it to DATAFRAME df2\n",
    "laser_cfg_file_to_open = logfilename + \"/laser.cfg\"\n",
    "df2 = pd.read_csv(laser_cfg_file_to_open, header=None)"
   ]
  },
  {
   "cell_type": "code",
   "execution_count": 238,
   "metadata": {},
   "outputs": [],
   "source": [
    "# find the row with string SerialNumber in order to get the serial number\n",
    "serial_number_row = df2[df2[0].str.contains(\"SerialNumber\")]"
   ]
  },
  {
   "cell_type": "code",
   "execution_count": 239,
   "metadata": {},
   "outputs": [],
   "source": [
    "serial_number = serial_number_row[0].str.replace(\"SerialNumber=\",\"\")"
   ]
  },
  {
   "cell_type": "code",
   "execution_count": 240,
   "metadata": {
    "scrolled": false
   },
   "outputs": [
    {
     "data": {
      "text/plain": [
       "1    R858\n",
       "Name: 0, dtype: object"
      ]
     },
     "execution_count": 240,
     "metadata": {},
     "output_type": "execute_result"
    }
   ],
   "source": [
    "serial_number"
   ]
  },
  {
   "cell_type": "code",
   "execution_count": null,
   "metadata": {},
   "outputs": [],
   "source": []
  },
  {
   "cell_type": "markdown",
   "metadata": {},
   "source": [
    "## Getting the customer information"
   ]
  },
  {
   "cell_type": "code",
   "execution_count": null,
   "metadata": {},
   "outputs": [],
   "source": [
    "#find the location index where the name Clinic is located\n",
    "customer_row = df2[df2[0].str.contains(\"Clinic\")].index.values"
   ]
  },
  {
   "cell_type": "code",
   "execution_count": null,
   "metadata": {},
   "outputs": [],
   "source": [
    "#If I know the index of Clinic, I can sum +1 then I can find the customer's name\n",
    "client_name = df2.iloc[customer_row[0]+1].str.replace(\"Name=\",\"\")\n",
    "\n",
    "#If I sum +2 to index where Clinic is located, I can find customer's street\n",
    "client_address = df2.iloc[customer_row[0]+2].str.replace(\"Street=\",\"\")\n",
    "\n",
    "#If I sum +3 to index where Clinic is located, I can find customer's Town\n",
    "client_town = df2.iloc[customer_row[0]+3].str.replace(\"Town=\",\"\")\n",
    "\n",
    "#If I sum +4 to index where Clinic is located, I can find customer's Country\n",
    "client_country = df2.iloc[customer_row[0]+4].str.replace(\"Country=\",\"\")\n",
    "\n",
    "#If I sum +5 to index where Clinic is located, I can find customer's Phone\n",
    "client_phone = df2.iloc[customer_row[0]+5].str.replace(\"Phone=\",\"\")\n",
    "\n",
    "#If I sum +7 to index where Clinic is located, I can find customer's Email\n",
    "client_email = df2.iloc[customer_row[0]+7].str.replace(\"Email=\",\"\")"
   ]
  },
  {
   "cell_type": "code",
   "execution_count": null,
   "metadata": {},
   "outputs": [],
   "source": [
    "client_town"
   ]
  },
  {
   "cell_type": "code",
   "execution_count": null,
   "metadata": {},
   "outputs": [],
   "source": []
  },
  {
   "cell_type": "code",
   "execution_count": null,
   "metadata": {},
   "outputs": [],
   "source": []
  },
  {
   "cell_type": "markdown",
   "metadata": {},
   "source": [
    "## Pulse counter from lasercfg file"
   ]
  },
  {
   "cell_type": "code",
   "execution_count": null,
   "metadata": {},
   "outputs": [],
   "source": []
  },
  {
   "cell_type": "code",
   "execution_count": null,
   "metadata": {},
   "outputs": [],
   "source": [
    "# find the row with string Pulsecounter in order to get the laser's pulses\n",
    "pulsecounter_row = df2[df2[0].str.contains(\"Pulsecounter\")]"
   ]
  },
  {
   "cell_type": "code",
   "execution_count": null,
   "metadata": {},
   "outputs": [],
   "source": [
    "pulsecounter = pulsecounter_row[0].str.replace(\"Pulsecounter=\",\"\")"
   ]
  },
  {
   "cell_type": "code",
   "execution_count": null,
   "metadata": {},
   "outputs": [],
   "source": [
    "pulsecounter"
   ]
  },
  {
   "cell_type": "markdown",
   "metadata": {},
   "source": [
    "## Num of gas remain gas exchanges"
   ]
  },
  {
   "cell_type": "code",
   "execution_count": null,
   "metadata": {},
   "outputs": [],
   "source": [
    "# find the row with string NoOfRemainingGasExchangesApprox in order to get the laser's gas exchange left\n",
    "remaingas_row = df2[df2[0].str.contains(\"NoOfRemainingGasExchangesApprox\")]\n",
    "num_remain_gas = remaingas_row[0].str.replace(\"NoOfRemainingGasExchangesApprox=\",\"\")"
   ]
  },
  {
   "cell_type": "code",
   "execution_count": null,
   "metadata": {},
   "outputs": [],
   "source": [
    "num_remain_gas"
   ]
  },
  {
   "cell_type": "code",
   "execution_count": null,
   "metadata": {},
   "outputs": [],
   "source": []
  },
  {
   "cell_type": "markdown",
   "metadata": {},
   "source": [
    "# Reading SysConfigInfo"
   ]
  },
  {
   "cell_type": "markdown",
   "metadata": {},
   "source": [
    "## Getting application software version"
   ]
  },
  {
   "cell_type": "code",
   "execution_count": null,
   "metadata": {},
   "outputs": [],
   "source": [
    "Sysconfiginfo_file_to_open = \"SysConfigInfo\""
   ]
  },
  {
   "cell_type": "code",
   "execution_count": null,
   "metadata": {},
   "outputs": [],
   "source": [
    "df3 = pd.read_csv(Sysconfiginfo_file_to_open, header=None, usecols=[0], encoding=\"ISO-8859-1\")"
   ]
  },
  {
   "cell_type": "code",
   "execution_count": null,
   "metadata": {},
   "outputs": [],
   "source": [
    "# find the row with string Application in order to get the laser's Application software version\n",
    "app_sw_row = df3[df3[0].str.contains(\"Application\")]"
   ]
  },
  {
   "cell_type": "code",
   "execution_count": null,
   "metadata": {},
   "outputs": [],
   "source": [
    "application_sw = app_sw_row[0].str.replace(\"Application_SW:   \",\"\")"
   ]
  },
  {
   "cell_type": "code",
   "execution_count": null,
   "metadata": {},
   "outputs": [],
   "source": [
    "application_sw"
   ]
  },
  {
   "cell_type": "code",
   "execution_count": null,
   "metadata": {},
   "outputs": [],
   "source": []
  },
  {
   "cell_type": "markdown",
   "metadata": {},
   "source": [
    "## Getting CAM software version"
   ]
  },
  {
   "cell_type": "code",
   "execution_count": null,
   "metadata": {},
   "outputs": [],
   "source": [
    "# find the row with string CAMinternal in order to get the laser's Application software version\n",
    "cam_sw_row = df3[df3[0].str.contains(\"CAMinternal\")]"
   ]
  },
  {
   "cell_type": "code",
   "execution_count": null,
   "metadata": {},
   "outputs": [],
   "source": [
    "cam_sw = cam_sw_row[0].str.replace(\"CAMinternal_SW:   \",\"\")"
   ]
  },
  {
   "cell_type": "code",
   "execution_count": null,
   "metadata": {},
   "outputs": [],
   "source": [
    "cam_sw"
   ]
  },
  {
   "cell_type": "code",
   "execution_count": null,
   "metadata": {},
   "outputs": [],
   "source": []
  },
  {
   "cell_type": "markdown",
   "metadata": {},
   "source": [
    "# Reading ServiceActivity.log"
   ]
  },
  {
   "cell_type": "code",
   "execution_count": null,
   "metadata": {},
   "outputs": [],
   "source": [
    "serviceactivitylog_to_open = \"ServiceActivity.log\""
   ]
  },
  {
   "cell_type": "code",
   "execution_count": null,
   "metadata": {},
   "outputs": [],
   "source": [
    "df4 = pd.read_csv(serviceactivitylog_to_open, delimiter=\"|\", names = [\"date\",1,2,3,4], header=None)"
   ]
  },
  {
   "cell_type": "code",
   "execution_count": null,
   "metadata": {},
   "outputs": [],
   "source": [
    "df4[\"date\"]=pd.to_datetime(df4[\"date\"], format= \"%Y-%m-%d__%H-%M-%S.%f \")"
   ]
  },
  {
   "cell_type": "code",
   "execution_count": null,
   "metadata": {},
   "outputs": [],
   "source": [
    "#df4.set_index(\"date\", inplace=True)"
   ]
  },
  {
   "cell_type": "code",
   "execution_count": null,
   "metadata": {},
   "outputs": [],
   "source": [
    "df4"
   ]
  },
  {
   "cell_type": "code",
   "execution_count": null,
   "metadata": {},
   "outputs": [],
   "source": [
    "ultimo=df4.loc[df4[\"date\"]>\"2020\"]"
   ]
  },
  {
   "cell_type": "code",
   "execution_count": null,
   "metadata": {},
   "outputs": [],
   "source": [
    "ultimo"
   ]
  },
  {
   "cell_type": "code",
   "execution_count": null,
   "metadata": {},
   "outputs": [],
   "source": []
  },
  {
   "cell_type": "code",
   "execution_count": null,
   "metadata": {},
   "outputs": [],
   "source": []
  },
  {
   "cell_type": "code",
   "execution_count": null,
   "metadata": {},
   "outputs": [],
   "source": []
  },
  {
   "cell_type": "code",
   "execution_count": null,
   "metadata": {
    "scrolled": false
   },
   "outputs": [],
   "source": [
    "free_comment[]"
   ]
  },
  {
   "cell_type": "code",
   "execution_count": null,
   "metadata": {},
   "outputs": [],
   "source": []
  }
 ],
 "metadata": {
  "kernelspec": {
   "display_name": "Python 3",
   "language": "python",
   "name": "python3"
  },
  "language_info": {
   "codemirror_mode": {
    "name": "ipython",
    "version": 3
   },
   "file_extension": ".py",
   "mimetype": "text/x-python",
   "name": "python",
   "nbconvert_exporter": "python",
   "pygments_lexer": "ipython3",
   "version": "3.7.4"
  }
 },
 "nbformat": 4,
 "nbformat_minor": 2
}
