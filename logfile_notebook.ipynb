{
 "cells": [
  {
   "cell_type": "markdown",
   "metadata": {},
   "source": [
    "## List of variables\n",
    "\n",
    "base --> name of the zip file to open\n",
    "\n",
    "datenumber --> date of logfile (datetime object)\n",
    "\n",
    "file_to_open -- > name of the most recentrly file (.log)\n",
    "\n",
    "df -- > logfile (.log) in data frame\n",
    "\n",
    "df2 --> lasercfg file in data frame\n",
    "\n",
    "df3 -->  sysconfiginfo file in data frame\n",
    "\n",
    "last_fluence --> data frame with fluence made on the logfile date\n",
    "\n",
    "values_last_fluence --> data frame with last fluence values\n",
    "\n",
    "valueslastfluence[\"High Fluence\"] --> High Fluence value\n",
    "\n",
    "valueslastfluence[\"Low Fluence\"] --> Low Fluence value\n",
    "\n",
    "valueslastfluence[\"HV\"] --> HV value\n",
    "\n",
    "valueslastfluence[\"High Energy\"] --> High Energy value\n",
    "\n",
    "valueslastfluence[\"Low Energy\"] --> Low Energy value\n",
    "\n",
    "valueslastfluence[\"HV min\"] --> HV minimun value\n",
    "\n",
    "valueslastfluence[\"HV max\"] --> HV maximun value\n",
    "\n",
    "valueslastfluence[\"Temp\"] --> Temperature value\n",
    "\n",
    "serial_number -- > Amaris serial number value\n",
    "\n",
    "client_name -- > client name information\n",
    "\n",
    "client_address -- > client addres infomation \n",
    "\n",
    "client_town  --> client town information\n",
    "\n",
    "client_country  --> client coutry information\n",
    "\n",
    "client_phone --> client phone information\n",
    "\n",
    "client_email  --> client email information\n",
    "\n",
    "pulsecounter --> number of pulses\n",
    "\n",
    "num_remain_gas -- > number of gas exchange remain \n",
    "\n",
    "application_sw -- > application software version\n",
    "\n",
    "cam_sw --> cam software version\n",
    "\n"
   ]
  },
  {
   "cell_type": "markdown",
   "metadata": {},
   "source": [
    "## OPEN THE LOGFILE "
   ]
  },
  {
   "cell_type": "code",
   "execution_count": 1,
   "metadata": {},
   "outputs": [],
   "source": [
    "#with this procedure i am opening a dialog box in order to grab the path of the file\n",
    "from tkinter.filedialog import askopenfilename\n",
    "import os"
   ]
  },
  {
   "cell_type": "code",
   "execution_count": 2,
   "metadata": {},
   "outputs": [],
   "source": [
    "#this will be the FULL PATH of the zip file\n",
    "filename = askopenfilename(filetypes =[(\"todos\", \"*.*\")])"
   ]
  },
  {
   "cell_type": "code",
   "execution_count": 3,
   "metadata": {},
   "outputs": [
    {
     "data": {
      "text/plain": [
       "'/home/andres/Documents/python_projects/schwind_logfile_reader/Log_R444_2020-05-20.zip'"
      ]
     },
     "execution_count": 3,
     "metadata": {},
     "output_type": "execute_result"
    }
   ],
   "source": [
    "filename"
   ]
  },
  {
   "cell_type": "code",
   "execution_count": 4,
   "metadata": {},
   "outputs": [],
   "source": [
    "#this is the file name WITHOUT the path\n",
    "base=os.path.basename(filename)"
   ]
  },
  {
   "cell_type": "code",
   "execution_count": 5,
   "metadata": {},
   "outputs": [
    {
     "data": {
      "text/plain": [
       "'Log_R444_2020-05-20.zip'"
      ]
     },
     "execution_count": 5,
     "metadata": {},
     "output_type": "execute_result"
    }
   ],
   "source": [
    "base"
   ]
  },
  {
   "cell_type": "markdown",
   "metadata": {},
   "source": [
    "## Extract all files from logfile zip file"
   ]
  },
  {
   "cell_type": "code",
   "execution_count": 6,
   "metadata": {},
   "outputs": [],
   "source": [
    "#Import libraries to unzip the logfile\n",
    "from zipfile import ZipFile"
   ]
  },
  {
   "cell_type": "code",
   "execution_count": 7,
   "metadata": {},
   "outputs": [],
   "source": [
    "#the zip file will be in ZIP variable\n",
    "zip=ZipFile(base)"
   ]
  },
  {
   "cell_type": "code",
   "execution_count": 8,
   "metadata": {},
   "outputs": [],
   "source": [
    "#UNZIP the file\n",
    "zip.extractall()"
   ]
  },
  {
   "cell_type": "code",
   "execution_count": 9,
   "metadata": {},
   "outputs": [],
   "source": [
    "zip.close()"
   ]
  },
  {
   "cell_type": "code",
   "execution_count": null,
   "metadata": {},
   "outputs": [],
   "source": []
  },
  {
   "cell_type": "markdown",
   "metadata": {},
   "source": [
    "## Read all the files unziped"
   ]
  },
  {
   "cell_type": "code",
   "execution_count": 10,
   "metadata": {},
   "outputs": [],
   "source": [
    "import os"
   ]
  },
  {
   "cell_type": "code",
   "execution_count": 11,
   "metadata": {},
   "outputs": [],
   "source": [
    "files = os.listdir()"
   ]
  },
  {
   "cell_type": "code",
   "execution_count": 12,
   "metadata": {},
   "outputs": [
    {
     "data": {
      "text/plain": [
       "['SysConfigInfo',\n",
       " 'ServiceActivity.log',\n",
       " 'laser.slb',\n",
       " 'CAMerrorLog.dat',\n",
       " '.ipynb_checkpoints',\n",
       " '2020-05-19__20-39-31.log',\n",
       " 'ssw.slb',\n",
       " '.gitignore',\n",
       " '.git',\n",
       " 'Mcu_boottime',\n",
       " 'laser.cfg',\n",
       " 'Mcu_logs',\n",
       " 'logfile_separadores.py',\n",
       " 'logfile_notebook.ipynb',\n",
       " 'LogEx',\n",
       " 'Hdspace',\n",
       " 'Nozzle',\n",
       " 'schwind_logfile_reader.py',\n",
       " '2020-05-20__04-55-56.log',\n",
       " 'SpotAtLastDriftTest.bmp',\n",
       " 'Log_R444_2020-05-20.zip',\n",
       " 'Users',\n",
       " 'CrdStatus',\n",
       " 'README.md',\n",
       " 'system.sys',\n",
       " 'confs']"
      ]
     },
     "execution_count": 12,
     "metadata": {},
     "output_type": "execute_result"
    }
   ],
   "source": [
    "#list of all files in the directory\n",
    "files"
   ]
  },
  {
   "cell_type": "code",
   "execution_count": null,
   "metadata": {},
   "outputs": [],
   "source": []
  },
  {
   "cell_type": "markdown",
   "metadata": {},
   "source": [
    "## Grabing the file name from the original logfile \n",
    "in this procedure we need to find the file.LOG with the right date.\n",
    "the right day is always in the ORIGINAL name of the ZIP file taken from the Amaris System.\n",
    "so, we are taking the number and we will find the file in the unziped list"
   ]
  },
  {
   "cell_type": "code",
   "execution_count": 13,
   "metadata": {},
   "outputs": [],
   "source": [
    "#This is the filename without te extension\n",
    "logfile_name=os.path.splitext(base)"
   ]
  },
  {
   "cell_type": "code",
   "execution_count": 14,
   "metadata": {},
   "outputs": [],
   "source": [
    "logfilename=logfile_name[0]"
   ]
  },
  {
   "cell_type": "code",
   "execution_count": 15,
   "metadata": {},
   "outputs": [
    {
     "data": {
      "text/plain": [
       "'Log_R444_2020-05-20'"
      ]
     },
     "execution_count": 15,
     "metadata": {},
     "output_type": "execute_result"
    }
   ],
   "source": [
    "logfilename"
   ]
  },
  {
   "cell_type": "code",
   "execution_count": 16,
   "metadata": {},
   "outputs": [],
   "source": [
    "# Import Regular expressions to find the pathern of the DATE\n",
    "import re"
   ]
  },
  {
   "cell_type": "code",
   "execution_count": 234,
   "metadata": {},
   "outputs": [],
   "source": [
    "#re.search(\"([0-9]{2}\\-[0-9]{2}\\-[0-9]{4})\", fileName)\n",
    "date_number = re.search(\"([0-9]{4}\\-[0-9]{2}\\-[0-9]{2})\", logfilename)"
   ]
  },
  {
   "cell_type": "code",
   "execution_count": 235,
   "metadata": {},
   "outputs": [
    {
     "data": {
      "text/plain": [
       "'2020-05-20'"
      ]
     },
     "execution_count": 235,
     "metadata": {},
     "output_type": "execute_result"
    }
   ],
   "source": [
    "date_number[0]"
   ]
  },
  {
   "cell_type": "code",
   "execution_count": 236,
   "metadata": {},
   "outputs": [],
   "source": [
    "# In this code i am looking in the list of unziped files and finding the right file\n",
    "# with the LOG extension\n",
    "file_to_open = next((s for s in files if date_number[0] in s),None)"
   ]
  },
  {
   "cell_type": "code",
   "execution_count": 237,
   "metadata": {},
   "outputs": [
    {
     "data": {
      "text/plain": [
       "'2020-05-20__04-55-56.log'"
      ]
     },
     "execution_count": 237,
     "metadata": {},
     "output_type": "execute_result"
    }
   ],
   "source": [
    "file_to_open"
   ]
  },
  {
   "cell_type": "code",
   "execution_count": 238,
   "metadata": {},
   "outputs": [],
   "source": [
    "#converting date_number to DATETIME dataframe\n",
    "datenumber= pd.to_datetime(date_number[0])"
   ]
  },
  {
   "cell_type": "markdown",
   "metadata": {},
   "source": [
    "## Opening the file to analyse in PANDAS"
   ]
  },
  {
   "cell_type": "code",
   "execution_count": 21,
   "metadata": {},
   "outputs": [],
   "source": [
    "import pandas as pd"
   ]
  },
  {
   "cell_type": "code",
   "execution_count": 22,
   "metadata": {},
   "outputs": [],
   "source": [
    "import csv"
   ]
  },
  {
   "cell_type": "code",
   "execution_count": 239,
   "metadata": {},
   "outputs": [],
   "source": [
    "#logfile_csv = pd.read_csv(file_to_open, delimiter=\"|\", header=0 , names =[1,2,3,4,5,6], encoding=\"ISO-8859-1\")\n",
    "#logfile_csv = pd.read_csv(file_to_open, delimiter=\"|\", names = [1,2,3,4,5,6], encoding=\"ISO-8859-1\")\n",
    "df = pd.read_csv(file_to_open, delimiter=\"|\", names = [\"time\",2,3,4,5,6], encoding=\"ISO-8859-1\")"
   ]
  },
  {
   "cell_type": "code",
   "execution_count": 240,
   "metadata": {
    "scrolled": true
   },
   "outputs": [],
   "source": [
    "df.drop(df.head(1).index, inplace=True)"
   ]
  },
  {
   "cell_type": "code",
   "execution_count": 241,
   "metadata": {},
   "outputs": [],
   "source": [
    "df.drop(df.tail(1).index, inplace=True)"
   ]
  },
  {
   "cell_type": "code",
   "execution_count": 242,
   "metadata": {},
   "outputs": [],
   "source": [
    "# split date and hour in two new columns \n",
    "\n",
    "# new data frame with split value columns \n",
    "#new = data[\"Name\"].str.split(\" \", n = 1, expand = True) \n",
    "  \n",
    "# making separate first name column from new data frame \n",
    "#data[\"First Name\"]= new[0] \n",
    "  \n",
    "# making separate last name column from new data frame \n",
    "#data[\"Last Name\"]= new[1] \n",
    "\n",
    "new = df[\"time\"].str.split(\"__\", n = 1, expand = True)"
   ]
  },
  {
   "cell_type": "code",
   "execution_count": 243,
   "metadata": {},
   "outputs": [],
   "source": [
    "#adding those two new columns in dataframe and strip blank spaces\n",
    "df[\"date\"]=new[0].str.strip()\n",
    "df[\"hour\"]=new[1].str.strip()"
   ]
  },
  {
   "cell_type": "code",
   "execution_count": 244,
   "metadata": {},
   "outputs": [],
   "source": [
    "#converting date colum in DATETIME data type\n",
    "df[\"date\"]=pd.to_datetime(df.date)"
   ]
  },
  {
   "cell_type": "markdown",
   "metadata": {},
   "source": [
    "## LAST FLUENCE "
   ]
  },
  {
   "cell_type": "code",
   "execution_count": 245,
   "metadata": {},
   "outputs": [],
   "source": [
    "#code for fluence is 2116-042, so I looked the rows with this value on column 2\n",
    "#df.loc[df['column_name'] == some_value]\n",
    "#date_number is the date of the current logfile\n",
    "\n",
    "#last_fluence = df.loc[(df[2]==\"2116-042\")&(df[\"date\"]>=date_number[0])]\n",
    "last_fluence = df.loc[(df[2]==\"2116-042\")&(df[\"date\"]>=datenumber)]"
   ]
  },
  {
   "cell_type": "code",
   "execution_count": 246,
   "metadata": {},
   "outputs": [
    {
     "data": {
      "text/html": [
       "<div>\n",
       "<style scoped>\n",
       "    .dataframe tbody tr th:only-of-type {\n",
       "        vertical-align: middle;\n",
       "    }\n",
       "\n",
       "    .dataframe tbody tr th {\n",
       "        vertical-align: top;\n",
       "    }\n",
       "\n",
       "    .dataframe thead th {\n",
       "        text-align: right;\n",
       "    }\n",
       "</style>\n",
       "<table border=\"1\" class=\"dataframe\">\n",
       "  <thead>\n",
       "    <tr style=\"text-align: right;\">\n",
       "      <th></th>\n",
       "      <th>time</th>\n",
       "      <th>2</th>\n",
       "      <th>3</th>\n",
       "      <th>4</th>\n",
       "      <th>5</th>\n",
       "      <th>6</th>\n",
       "      <th>date</th>\n",
       "      <th>hour</th>\n",
       "    </tr>\n",
       "  </thead>\n",
       "  <tbody>\n",
       "    <tr>\n",
       "      <td>4460</td>\n",
       "      <td>2020-05-20__03-39-18.421</td>\n",
       "      <td>2116-042</td>\n",
       "      <td></td>\n",
       "      <td>APP</td>\n",
       "      <td>Fluence values: High Fluence: 654   Low Fluen...</td>\n",
       "      <td>NaN</td>\n",
       "      <td>2020-05-20</td>\n",
       "      <td>03-39-18.421</td>\n",
       "    </tr>\n",
       "    <tr>\n",
       "      <td>4531</td>\n",
       "      <td>2020-05-20__03-45-20.312</td>\n",
       "      <td>2116-042</td>\n",
       "      <td></td>\n",
       "      <td>APP</td>\n",
       "      <td>Fluence values: High Fluence: 655   Low Fluen...</td>\n",
       "      <td>NaN</td>\n",
       "      <td>2020-05-20</td>\n",
       "      <td>03-45-20.312</td>\n",
       "    </tr>\n",
       "    <tr>\n",
       "      <td>4656</td>\n",
       "      <td>2020-05-20__04-03-12.562</td>\n",
       "      <td>2116-042</td>\n",
       "      <td></td>\n",
       "      <td>APP</td>\n",
       "      <td>Fluence values: High Fluence: 649   Low Fluen...</td>\n",
       "      <td>NaN</td>\n",
       "      <td>2020-05-20</td>\n",
       "      <td>04-03-12.562</td>\n",
       "    </tr>\n",
       "  </tbody>\n",
       "</table>\n",
       "</div>"
      ],
      "text/plain": [
       "                           time         2         3               4  \\\n",
       "4460  2020-05-20__03-39-18.421   2116-042             APP             \n",
       "4531  2020-05-20__03-45-20.312   2116-042             APP             \n",
       "4656  2020-05-20__04-03-12.562   2116-042             APP             \n",
       "\n",
       "                                                      5    6       date  \\\n",
       "4460   Fluence values: High Fluence: 654   Low Fluen...  NaN 2020-05-20   \n",
       "4531   Fluence values: High Fluence: 655   Low Fluen...  NaN 2020-05-20   \n",
       "4656   Fluence values: High Fluence: 649   Low Fluen...  NaN 2020-05-20   \n",
       "\n",
       "              hour  \n",
       "4460  03-39-18.421  \n",
       "4531  03-45-20.312  \n",
       "4656  04-03-12.562  "
      ]
     },
     "execution_count": 246,
     "metadata": {},
     "output_type": "execute_result"
    }
   ],
   "source": [
    "last_fluence"
   ]
  },
  {
   "cell_type": "code",
   "execution_count": 247,
   "metadata": {},
   "outputs": [
    {
     "data": {
      "text/plain": [
       "4460     Fluence values: High Fluence: 654   Low Fluen...\n",
       "4531     Fluence values: High Fluence: 655   Low Fluen...\n",
       "4656     Fluence values: High Fluence: 649   Low Fluen...\n",
       "Name: 5, dtype: object"
      ]
     },
     "execution_count": 247,
     "metadata": {},
     "output_type": "execute_result"
    }
   ],
   "source": [
    "#the column 5 is where all the fluence values are.\n",
    "last_fluence[5]"
   ]
  },
  {
   "cell_type": "code",
   "execution_count": 248,
   "metadata": {},
   "outputs": [],
   "source": [
    "#In this step, I split the column 5 in order to have every value in its own column\n",
    "values_last_fluence = last_fluence[5].str.split(\"   \", n = 0, expand = True)"
   ]
  },
  {
   "cell_type": "code",
   "execution_count": 249,
   "metadata": {},
   "outputs": [],
   "source": [
    "#removing \"Fluence values: \" string from the column 0 - in order to clean the data\n",
    "#removing strings before the values on each column\n",
    "values_last_fluence[0] = values_last_fluence[0].str.replace(\"Fluence values: High Fluence: \",\"\")\n",
    "values_last_fluence[1] = values_last_fluence[1].str.replace(\"Low Fluence: \",\"\")\n",
    "values_last_fluence[2] = values_last_fluence[2].str.replace(\"HV: \", \"\")\n",
    "values_last_fluence[3] = values_last_fluence[3].str.replace(\"NominalHF: \", \"\")\n",
    "values_last_fluence[4] = values_last_fluence[4].str.replace(\"NominalLF: \", \"\")\n",
    "values_last_fluence[5] = values_last_fluence[5].str.replace(\"E_preset_HI : \", \"\")\n",
    "values_last_fluence[6] = values_last_fluence[6].str.replace(\"E_preset_LO : \", \"\")\n",
    "values_last_fluence[7] = values_last_fluence[7].str.replace(\"HV_min:  \", \"\")\n",
    "values_last_fluence[8] = values_last_fluence[8].str.replace(\"HV_max:  \", \"\")\n",
    "values_last_fluence[9] = values_last_fluence[9].str.replace(\"LaserTemperature: \", \"\")\n"
   ]
  },
  {
   "cell_type": "code",
   "execution_count": 250,
   "metadata": {},
   "outputs": [],
   "source": [
    "#rename the column name\n",
    "values_last_fluence.columns=[\"High Fluence\", \"Low Fluence\", \"HV\", \"Nominal HF\", \"Nominal LF\", \"High Energy\", \"Low Energy\", \"HV min\", \"HV max\", \"Temp\"]"
   ]
  },
  {
   "cell_type": "code",
   "execution_count": 251,
   "metadata": {},
   "outputs": [
    {
     "data": {
      "text/html": [
       "<div>\n",
       "<style scoped>\n",
       "    .dataframe tbody tr th:only-of-type {\n",
       "        vertical-align: middle;\n",
       "    }\n",
       "\n",
       "    .dataframe tbody tr th {\n",
       "        vertical-align: top;\n",
       "    }\n",
       "\n",
       "    .dataframe thead th {\n",
       "        text-align: right;\n",
       "    }\n",
       "</style>\n",
       "<table border=\"1\" class=\"dataframe\">\n",
       "  <thead>\n",
       "    <tr style=\"text-align: right;\">\n",
       "      <th></th>\n",
       "      <th>High Fluence</th>\n",
       "      <th>Low Fluence</th>\n",
       "      <th>HV</th>\n",
       "      <th>Nominal HF</th>\n",
       "      <th>Nominal LF</th>\n",
       "      <th>High Energy</th>\n",
       "      <th>Low Energy</th>\n",
       "      <th>HV min</th>\n",
       "      <th>HV max</th>\n",
       "      <th>Temp</th>\n",
       "    </tr>\n",
       "  </thead>\n",
       "  <tbody>\n",
       "    <tr>\n",
       "      <td>4656</td>\n",
       "      <td>649</td>\n",
       "      <td>582</td>\n",
       "      <td>843</td>\n",
       "      <td>673</td>\n",
       "      <td>558</td>\n",
       "      <td>290</td>\n",
       "      <td>280</td>\n",
       "      <td>801</td>\n",
       "      <td>860</td>\n",
       "      <td>39</td>\n",
       "    </tr>\n",
       "  </tbody>\n",
       "</table>\n",
       "</div>"
      ],
      "text/plain": [
       "     High Fluence Low Fluence   HV Nominal HF Nominal LF High Energy  \\\n",
       "4656          649         582  843        673        558         290   \n",
       "\n",
       "     Low Energy HV min HV max Temp  \n",
       "4656        280    801    860   39  "
      ]
     },
     "execution_count": 251,
     "metadata": {},
     "output_type": "execute_result"
    }
   ],
   "source": [
    "#last fluence value\n",
    "values_last_fluence.tail(1)"
   ]
  },
  {
   "cell_type": "code",
   "execution_count": 289,
   "metadata": {},
   "outputs": [],
   "source": [
    "valueslastfluence=values_last_fluence.tail(1)"
   ]
  },
  {
   "cell_type": "code",
   "execution_count": 291,
   "metadata": {},
   "outputs": [
    {
     "data": {
      "text/plain": [
       "4656     649\n",
       "Name: High Fluence, dtype: object"
      ]
     },
     "execution_count": 291,
     "metadata": {},
     "output_type": "execute_result"
    }
   ],
   "source": [
    "valueslastfluence[\"High Fluence\"]"
   ]
  },
  {
   "cell_type": "code",
   "execution_count": null,
   "metadata": {},
   "outputs": [],
   "source": []
  },
  {
   "cell_type": "code",
   "execution_count": null,
   "metadata": {},
   "outputs": [],
   "source": []
  },
  {
   "cell_type": "markdown",
   "metadata": {},
   "source": [
    "## LAST PULSES AND TEMPERATURE"
   ]
  },
  {
   "cell_type": "code",
   "execution_count": 252,
   "metadata": {},
   "outputs": [],
   "source": [
    "#I search for the string \"  Temp.  \", where the value of the pulse is. \n",
    "#and with the \"date\" iqual or grater that the current date.\n",
    "\n",
    "#pulses_temp = df.loc[(df[2]==\"  Temp. \")&(df[\"date\"]>=date_number[0])]\n",
    "pulses_temp = df.loc[(df[2]==\"  Temp. \")&(df[\"date\"]>=datenumber)]"
   ]
  },
  {
   "cell_type": "code",
   "execution_count": 253,
   "metadata": {},
   "outputs": [],
   "source": [
    "#In this step, I split the column 5 in order to have every value in its own column\n",
    "values_pulses_temp = pulses_temp[5].str.split(\"  \", n = 0, expand = True)"
   ]
  },
  {
   "cell_type": "code",
   "execution_count": 254,
   "metadata": {},
   "outputs": [],
   "source": [
    "#removing values in order to clean the data\n",
    "#rename each column to identify values\n",
    "\n",
    "values_pulses_temp[1] = values_pulses_temp[1].str.replace(\"MCU CPU:\",\"\")\n",
    "values_pulses_temp[2] = values_pulses_temp[2].str.replace(\"Mainboard:\",\"\")\n",
    "values_pulses_temp[3] = values_pulses_temp[3].str.replace(\"Chipset:\",\"\")\n",
    "values_pulses_temp[4] = values_pulses_temp[4].str.replace(\"LACU:\",\"\")\n",
    "values_pulses_temp[5] = values_pulses_temp[5].str.replace(\"Humidity\\%:\",\"\")\n",
    "values_pulses_temp[6] = values_pulses_temp[6].str.replace(\"Pulsecounter:\",\"\")\n",
    "\n",
    "\n",
    "values_pulses_temp.columns=[\"\", \"mcu_temp\", \"mainboard_temp\", \"chipset_temp\", \"lacu_temp\", \"humidity\", \"pulsecounter\"]"
   ]
  },
  {
   "cell_type": "code",
   "execution_count": 255,
   "metadata": {},
   "outputs": [
    {
     "data": {
      "text/html": [
       "<div>\n",
       "<style scoped>\n",
       "    .dataframe tbody tr th:only-of-type {\n",
       "        vertical-align: middle;\n",
       "    }\n",
       "\n",
       "    .dataframe tbody tr th {\n",
       "        vertical-align: top;\n",
       "    }\n",
       "\n",
       "    .dataframe thead th {\n",
       "        text-align: right;\n",
       "    }\n",
       "</style>\n",
       "<table border=\"1\" class=\"dataframe\">\n",
       "  <thead>\n",
       "    <tr style=\"text-align: right;\">\n",
       "      <th></th>\n",
       "      <th></th>\n",
       "      <th>mcu_temp</th>\n",
       "      <th>mainboard_temp</th>\n",
       "      <th>chipset_temp</th>\n",
       "      <th>lacu_temp</th>\n",
       "      <th>humidity</th>\n",
       "      <th>pulsecounter</th>\n",
       "    </tr>\n",
       "  </thead>\n",
       "  <tbody>\n",
       "    <tr>\n",
       "      <td>4633</td>\n",
       "      <td>Temperature</td>\n",
       "      <td>0</td>\n",
       "      <td>0</td>\n",
       "      <td>0</td>\n",
       "      <td>18</td>\n",
       "      <td>53</td>\n",
       "      <td>292133845</td>\n",
       "    </tr>\n",
       "  </tbody>\n",
       "</table>\n",
       "</div>"
      ],
      "text/plain": [
       "                   mcu_temp mainboard_temp chipset_temp lacu_temp humidity  \\\n",
       "4633   Temperature        0              0            0        18       53   \n",
       "\n",
       "     pulsecounter  \n",
       "4633    292133845  "
      ]
     },
     "execution_count": 255,
     "metadata": {},
     "output_type": "execute_result"
    }
   ],
   "source": [
    "#las values of temp humidity and pulsecounter\n",
    "values_pulses_temp.tail(1)"
   ]
  },
  {
   "cell_type": "code",
   "execution_count": null,
   "metadata": {},
   "outputs": [],
   "source": []
  },
  {
   "cell_type": "markdown",
   "metadata": {},
   "source": [
    "## LASER SERIAL NUMBER"
   ]
  },
  {
   "cell_type": "code",
   "execution_count": 256,
   "metadata": {},
   "outputs": [],
   "source": [
    "#Searching the string \"2102-021\" wich is the code where the laser serial number and software version is located\n",
    "#serial_version = df.loc[(df[2]==\"2102-021\")&(df[\"date\"]>=date_number[0])]\n",
    "serial_version = df.loc[(df[2]==\"2102-021\")&(df[\"date\"]>=datenumber)]"
   ]
  },
  {
   "cell_type": "code",
   "execution_count": 257,
   "metadata": {},
   "outputs": [],
   "source": [
    "#In this step, I split the column 5 in order to have every value in its own column\n",
    "values_serial_version = serial_version[5].str.split(\"   \", n = 0, expand = True)"
   ]
  },
  {
   "cell_type": "code",
   "execution_count": 258,
   "metadata": {},
   "outputs": [
    {
     "data": {
      "text/html": [
       "<div>\n",
       "<style scoped>\n",
       "    .dataframe tbody tr th:only-of-type {\n",
       "        vertical-align: middle;\n",
       "    }\n",
       "\n",
       "    .dataframe tbody tr th {\n",
       "        vertical-align: top;\n",
       "    }\n",
       "\n",
       "    .dataframe thead th {\n",
       "        text-align: right;\n",
       "    }\n",
       "</style>\n",
       "<table border=\"1\" class=\"dataframe\">\n",
       "  <thead>\n",
       "    <tr style=\"text-align: right;\">\n",
       "      <th></th>\n",
       "      <th>0</th>\n",
       "      <th>1</th>\n",
       "      <th>2</th>\n",
       "      <th>3</th>\n",
       "    </tr>\n",
       "  </thead>\n",
       "  <tbody>\n",
       "    <tr>\n",
       "      <td>412</td>\n",
       "      <td>LOGIN Application Software</td>\n",
       "      <td>Version:6.1.2117.702</td>\n",
       "      <td>User:SETS</td>\n",
       "      <td>System Serial (ini):R444</td>\n",
       "    </tr>\n",
       "    <tr>\n",
       "      <td>4488</td>\n",
       "      <td>LOGIN Application Software</td>\n",
       "      <td>Version:6.1.2117.702</td>\n",
       "      <td>User:SETS</td>\n",
       "      <td>System Serial (ini):R444</td>\n",
       "    </tr>\n",
       "    <tr>\n",
       "      <td>4569</td>\n",
       "      <td>LOGIN Application Software</td>\n",
       "      <td>Version:6.1.2117.702</td>\n",
       "      <td>User:SETS</td>\n",
       "      <td>System Serial (ini):R444</td>\n",
       "    </tr>\n",
       "    <tr>\n",
       "      <td>4613</td>\n",
       "      <td>LOGIN Application Software</td>\n",
       "      <td>Version:6.1.2117.702</td>\n",
       "      <td>User:SETS</td>\n",
       "      <td>System Serial (ini):R444</td>\n",
       "    </tr>\n",
       "  </tbody>\n",
       "</table>\n",
       "</div>"
      ],
      "text/plain": [
       "                                0                     1          2  \\\n",
       "412    LOGIN Application Software  Version:6.1.2117.702  User:SETS   \n",
       "4488   LOGIN Application Software  Version:6.1.2117.702  User:SETS   \n",
       "4569   LOGIN Application Software  Version:6.1.2117.702  User:SETS   \n",
       "4613   LOGIN Application Software  Version:6.1.2117.702  User:SETS   \n",
       "\n",
       "                             3  \n",
       "412   System Serial (ini):R444  \n",
       "4488  System Serial (ini):R444  \n",
       "4569  System Serial (ini):R444  \n",
       "4613  System Serial (ini):R444  "
      ]
     },
     "execution_count": 258,
     "metadata": {},
     "output_type": "execute_result"
    }
   ],
   "source": [
    "values_serial_version"
   ]
  },
  {
   "cell_type": "code",
   "execution_count": 259,
   "metadata": {},
   "outputs": [],
   "source": [
    "#removing values in order to clean the data\n",
    "#rename each column to identify values\n",
    "values_serial_version[1] = values_serial_version[1].str.replace(\"Version:\",\"\")\n",
    "values_serial_version[3] = values_serial_version[3].str.replace(\"System Serial \\(ini\\):\",\"\")\n",
    "values_serial_version.columns=[\"\", \"version\", \"\", \"serial\"]"
   ]
  },
  {
   "cell_type": "code",
   "execution_count": 260,
   "metadata": {},
   "outputs": [
    {
     "data": {
      "text/html": [
       "<div>\n",
       "<style scoped>\n",
       "    .dataframe tbody tr th:only-of-type {\n",
       "        vertical-align: middle;\n",
       "    }\n",
       "\n",
       "    .dataframe tbody tr th {\n",
       "        vertical-align: top;\n",
       "    }\n",
       "\n",
       "    .dataframe thead th {\n",
       "        text-align: right;\n",
       "    }\n",
       "</style>\n",
       "<table border=\"1\" class=\"dataframe\">\n",
       "  <thead>\n",
       "    <tr style=\"text-align: right;\">\n",
       "      <th></th>\n",
       "      <th></th>\n",
       "      <th>version</th>\n",
       "      <th></th>\n",
       "      <th>serial</th>\n",
       "    </tr>\n",
       "  </thead>\n",
       "  <tbody>\n",
       "    <tr>\n",
       "      <td>4613</td>\n",
       "      <td>LOGIN Application Software</td>\n",
       "      <td>6.1.2117.702</td>\n",
       "      <td>User:SETS</td>\n",
       "      <td>R444</td>\n",
       "    </tr>\n",
       "  </tbody>\n",
       "</table>\n",
       "</div>"
      ],
      "text/plain": [
       "                                        version            serial\n",
       "4613   LOGIN Application Software  6.1.2117.702  User:SETS   R444"
      ]
     },
     "execution_count": 260,
     "metadata": {},
     "output_type": "execute_result"
    }
   ],
   "source": [
    "values_serial_version.tail(1)"
   ]
  },
  {
   "cell_type": "code",
   "execution_count": null,
   "metadata": {},
   "outputs": [],
   "source": []
  },
  {
   "cell_type": "code",
   "execution_count": null,
   "metadata": {},
   "outputs": [],
   "source": []
  },
  {
   "cell_type": "markdown",
   "metadata": {},
   "source": [
    "## Gas Exchage"
   ]
  },
  {
   "cell_type": "code",
   "execution_count": 261,
   "metadata": {},
   "outputs": [],
   "source": [
    "#searching for the string \"2115-012\" where gas exchange is located\n",
    "#gas = df.loc[(df[2]==\"2115-012\")&(df[\"date\"]>=date_number[0])]\n",
    "gas = df.loc[(df[2]==\"2115-012\")&(df[\"date\"]>=datenumber)]"
   ]
  },
  {
   "cell_type": "code",
   "execution_count": 262,
   "metadata": {},
   "outputs": [
    {
     "name": "stdout",
     "output_type": "stream",
     "text": [
      "no hay dato\n"
     ]
    }
   ],
   "source": [
    "if (gas.empty):\n",
    "    print(\"no hay dato\")\n",
    "else:\n",
    "    print (gas)"
   ]
  },
  {
   "cell_type": "code",
   "execution_count": null,
   "metadata": {},
   "outputs": [],
   "source": []
  },
  {
   "cell_type": "markdown",
   "metadata": {},
   "source": [
    "# Opening a new data frame from lasercfg file"
   ]
  },
  {
   "cell_type": "markdown",
   "metadata": {},
   "source": [
    "## Getting the laser serial number"
   ]
  },
  {
   "cell_type": "code",
   "execution_count": 263,
   "metadata": {},
   "outputs": [],
   "source": [
    "# openning new file laser.cfg and transforming it to DATAFRAME df2\n",
    "laser_cfg_file_to_open = \"laser.cfg\"\n",
    "df2 = pd.read_csv(laser_cfg_file_to_open, header=None)"
   ]
  },
  {
   "cell_type": "code",
   "execution_count": 264,
   "metadata": {},
   "outputs": [],
   "source": [
    "# find the row with string SerialNumber in order to get the serial number\n",
    "serial_number_row = df2[df2[0].str.contains(\"SerialNumber\")]"
   ]
  },
  {
   "cell_type": "code",
   "execution_count": 265,
   "metadata": {},
   "outputs": [],
   "source": [
    "serial_number = serial_number_row[0].str.replace(\"SerialNumber=\",\"\")"
   ]
  },
  {
   "cell_type": "code",
   "execution_count": 266,
   "metadata": {
    "scrolled": false
   },
   "outputs": [
    {
     "data": {
      "text/plain": [
       "1    R444\n",
       "Name: 0, dtype: object"
      ]
     },
     "execution_count": 266,
     "metadata": {},
     "output_type": "execute_result"
    }
   ],
   "source": [
    "serial_number"
   ]
  },
  {
   "cell_type": "code",
   "execution_count": null,
   "metadata": {},
   "outputs": [],
   "source": []
  },
  {
   "cell_type": "markdown",
   "metadata": {},
   "source": [
    "## Getting the customer information"
   ]
  },
  {
   "cell_type": "code",
   "execution_count": 267,
   "metadata": {},
   "outputs": [],
   "source": [
    "#find the location index where the name Clinic is located\n",
    "customer_row = df2[df2[0].str.contains(\"Clinic\")].index.values"
   ]
  },
  {
   "cell_type": "code",
   "execution_count": 294,
   "metadata": {},
   "outputs": [],
   "source": [
    "#If I know the index of Clinic, I can sum +1 then I can find the customer's name\n",
    "client_name = df2.iloc[customer_row[0]+1].str.replace(\"Name=\",\"\")\n",
    "\n",
    "#If I sum +2 to index where Clinic is located, I can find customer's street\n",
    "client_address = df2.iloc[customer_row[0]+2].str.replace(\"Street=\",\"\")\n",
    "\n",
    "#If I sum +3 to index where Clinic is located, I can find customer's Town\n",
    "client_town = df2.iloc[customer_row[0]+3].str.replace(\"Town=\",\"\")\n",
    "\n",
    "#If I sum +4 to index where Clinic is located, I can find customer's Country\n",
    "client_country = df2.iloc[customer_row[0]+4].str.replace(\"Country=\",\"\")\n",
    "\n",
    "#If I sum +5 to index where Clinic is located, I can find customer's Phone\n",
    "client_phone = df2.iloc[customer_row[0]+5].str.replace(\"Phone=\",\"\")\n",
    "\n",
    "#If I sum +7 to index where Clinic is located, I can find customer's Email\n",
    "client_email = df2.iloc[customer_row[0]+7].str.replace(\"Email=\",\"\")"
   ]
  },
  {
   "cell_type": "code",
   "execution_count": null,
   "metadata": {},
   "outputs": [],
   "source": []
  },
  {
   "cell_type": "markdown",
   "metadata": {},
   "source": [
    "## Pulse counter from lasercfg file"
   ]
  },
  {
   "cell_type": "code",
   "execution_count": null,
   "metadata": {},
   "outputs": [],
   "source": []
  },
  {
   "cell_type": "code",
   "execution_count": 295,
   "metadata": {},
   "outputs": [],
   "source": [
    "# find the row with string Pulsecounter in order to get the laser's pulses\n",
    "pulsecounter_row = df2[df2[0].str.contains(\"Pulsecounter\")]"
   ]
  },
  {
   "cell_type": "code",
   "execution_count": 296,
   "metadata": {},
   "outputs": [],
   "source": [
    "pulsecounter = pulsecounter_row[0].str.replace(\"Pulsecounter=\",\"\")"
   ]
  },
  {
   "cell_type": "code",
   "execution_count": 297,
   "metadata": {},
   "outputs": [
    {
     "data": {
      "text/plain": [
       "118    292496361\n",
       "Name: 0, dtype: object"
      ]
     },
     "execution_count": 297,
     "metadata": {},
     "output_type": "execute_result"
    }
   ],
   "source": [
    "pulsecounter"
   ]
  },
  {
   "cell_type": "markdown",
   "metadata": {},
   "source": [
    "## Num of gas remain gas exchanges"
   ]
  },
  {
   "cell_type": "code",
   "execution_count": 298,
   "metadata": {},
   "outputs": [],
   "source": [
    "# find the row with string NoOfRemainingGasExchangesApprox in order to get the laser's gas exchange left\n",
    "remaingas_row = df2[df2[0].str.contains(\"NoOfRemainingGasExchangesApprox\")]\n",
    "num_remain_gas = remaingas_row[0].str.replace(\"NoOfRemainingGasExchangesApprox=\",\"\")"
   ]
  },
  {
   "cell_type": "code",
   "execution_count": 300,
   "metadata": {},
   "outputs": [
    {
     "data": {
      "text/plain": [
       "117    33\n",
       "Name: 0, dtype: object"
      ]
     },
     "execution_count": 300,
     "metadata": {},
     "output_type": "execute_result"
    }
   ],
   "source": [
    "num_remain_gas"
   ]
  },
  {
   "cell_type": "code",
   "execution_count": null,
   "metadata": {},
   "outputs": [],
   "source": []
  },
  {
   "cell_type": "markdown",
   "metadata": {},
   "source": [
    "# Reading SysConfigInfo"
   ]
  },
  {
   "cell_type": "markdown",
   "metadata": {},
   "source": [
    "## Getting application software version"
   ]
  },
  {
   "cell_type": "code",
   "execution_count": 274,
   "metadata": {},
   "outputs": [],
   "source": [
    "Sysconfiginfo_file_to_open = \"SysConfigInfo\""
   ]
  },
  {
   "cell_type": "code",
   "execution_count": 275,
   "metadata": {},
   "outputs": [],
   "source": [
    "df3 = pd.read_csv(Sysconfiginfo_file_to_open, header=None, usecols=[0], encoding=\"ISO-8859-1\")"
   ]
  },
  {
   "cell_type": "code",
   "execution_count": 276,
   "metadata": {},
   "outputs": [],
   "source": [
    "# find the row with string Application in order to get the laser's Application software version\n",
    "app_sw_row = df3[df3[0].str.contains(\"Application\")]"
   ]
  },
  {
   "cell_type": "code",
   "execution_count": 277,
   "metadata": {},
   "outputs": [],
   "source": [
    "application_sw = app_sw_row[0].str.replace(\"Application_SW:   \",\"\")"
   ]
  },
  {
   "cell_type": "code",
   "execution_count": 278,
   "metadata": {},
   "outputs": [
    {
     "data": {
      "text/plain": [
       "4    6.1.2117.702\n",
       "Name: 0, dtype: object"
      ]
     },
     "execution_count": 278,
     "metadata": {},
     "output_type": "execute_result"
    }
   ],
   "source": [
    "application_sw"
   ]
  },
  {
   "cell_type": "code",
   "execution_count": null,
   "metadata": {},
   "outputs": [],
   "source": []
  },
  {
   "cell_type": "markdown",
   "metadata": {},
   "source": [
    "## Getting CAM software version"
   ]
  },
  {
   "cell_type": "code",
   "execution_count": 279,
   "metadata": {},
   "outputs": [],
   "source": [
    "# find the row with string CAMinternal in order to get the laser's Application software version\n",
    "cam_sw_row = df3[df3[0].str.contains(\"CAMinternal\")]"
   ]
  },
  {
   "cell_type": "code",
   "execution_count": 280,
   "metadata": {},
   "outputs": [],
   "source": [
    "cam_sw = cam_sw_row[0].str.replace(\"CAMinternal_SW:   \",\"\")"
   ]
  },
  {
   "cell_type": "code",
   "execution_count": 281,
   "metadata": {},
   "outputs": [
    {
     "data": {
      "text/plain": [
       "5    5.2.23.1703\n",
       "Name: 0, dtype: object"
      ]
     },
     "execution_count": 281,
     "metadata": {},
     "output_type": "execute_result"
    }
   ],
   "source": [
    "cam_sw"
   ]
  },
  {
   "cell_type": "code",
   "execution_count": null,
   "metadata": {},
   "outputs": [],
   "source": []
  },
  {
   "cell_type": "markdown",
   "metadata": {},
   "source": [
    "# Reading ServiceActivity.log"
   ]
  },
  {
   "cell_type": "code",
   "execution_count": 303,
   "metadata": {},
   "outputs": [],
   "source": [
    "serviceactivitylog_to_open = \"ServiceActivity.log\""
   ]
  },
  {
   "cell_type": "code",
   "execution_count": 311,
   "metadata": {},
   "outputs": [],
   "source": [
    "df4 = pd.read_csv(serviceactivitylog_to_open, delimiter=\"|\", header=None)"
   ]
  },
  {
   "cell_type": "code",
   "execution_count": 313,
   "metadata": {},
   "outputs": [],
   "source": [
    "new_2 = df4[0].str.split(\"__\", n = 1, expand = True)"
   ]
  },
  {
   "cell_type": "code",
   "execution_count": 317,
   "metadata": {},
   "outputs": [],
   "source": [
    "#adding those two new columns in dataframe and strip blank spaces\n",
    "df4[\"date\"]=new_2[0].str.strip()\n",
    "df4[\"hour\"]=new_2[1].str.strip()"
   ]
  },
  {
   "cell_type": "code",
   "execution_count": 319,
   "metadata": {},
   "outputs": [],
   "source": [
    "#converting date colum in DATETIME data type\n",
    "df4[\"date\"]=pd.to_datetime(df4.date)"
   ]
  },
  {
   "cell_type": "code",
   "execution_count": null,
   "metadata": {},
   "outputs": [],
   "source": []
  }
 ],
 "metadata": {
  "kernelspec": {
   "display_name": "Python 3",
   "language": "python",
   "name": "python3"
  },
  "language_info": {
   "codemirror_mode": {
    "name": "ipython",
    "version": 3
   },
   "file_extension": ".py",
   "mimetype": "text/x-python",
   "name": "python",
   "nbconvert_exporter": "python",
   "pygments_lexer": "ipython3",
   "version": "3.7.4"
  }
 },
 "nbformat": 4,
 "nbformat_minor": 2
}
